{
 "cells": [
  {
   "cell_type": "code",
   "execution_count": 1,
   "metadata": {},
   "outputs": [],
   "source": [
    "import polars as pl\n",
    "import altair as alt\n",
    "#alt.data_transformers.enable(\"vegafusion\")"
   ]
  },
  {
   "cell_type": "code",
   "execution_count": 2,
   "metadata": {},
   "outputs": [],
   "source": [
    "rel_vars= ['countrynewwb','codewb', 'year', 'pop_adult', 'regionwb24_hi', 'incomegroupwb24', \n",
    "           'group', 'group2','account_t_d', 'fiaccount_t_d', 'mobileaccount_t_d', 'fin11a',\n",
    "                  'fin11b', 'fin11c', 'fin11f', 'fin11d', 'fin11e', 'fin14a', \n",
    "                  'fin14b', 'fin14c', 'fin14d', 'fin26a', 'fin26b', 'fin27a', \n",
    "                  'g20_made', 'fin17f', 'fin17a_17a1_d', 'fin17a', 'fin17b', 'fin17c', 'fin24aSD_ND']"
   ]
  },
  {
   "cell_type": "code",
   "execution_count": 3,
   "metadata": {},
   "outputs": [],
   "source": [
    "int_cols = ['account_t_d', 'fiaccount_t_d', 'mobileaccount_t_d', 'fin11a',\n",
    "                  'fin11b', 'fin11c', 'fin11f', 'fin11d', 'fin11e', 'fin14a', \n",
    "                  'fin14b', 'fin14c', 'fin14d', 'fin26a', 'fin26b', 'fin27a', \n",
    "                  'g20_made', 'fin17f', 'fin17a_17a1_d', 'fin17a', 'fin17b', 'fin17c', 'fin24aSD_ND']"
   ]
  },
  {
   "cell_type": "code",
   "execution_count": 4,
   "metadata": {},
   "outputs": [],
   "source": [
    "south_asia_countries = ['South Asia', 'India', 'Bangladesh', 'Pakistan']"
   ]
  },
  {
   "cell_type": "code",
   "execution_count": 5,
   "metadata": {},
   "outputs": [],
   "source": [
    "def process_data(): \n",
    "    global_findex = pl.read_csv('../data/GlobalFindexDatabase2025.csv', infer_schema_length=10000)\n",
    "    global_findex_clean = global_findex.select(rel_vars)\n",
    "    global_findex_int = global_findex_clean.with_columns(\n",
    "    [pl.col(col).replace('NA', None).cast(pl.Float64) for col in int_cols]\n",
    ")\n",
    "    global_findex_per = global_findex_int.with_columns(\n",
    "        [pl.col(col)*100 for col in int_cols]\n",
    "    )\n",
    "    return global_findex_per\n",
    "    "
   ]
  },
  {
   "cell_type": "code",
   "execution_count": 6,
   "metadata": {},
   "outputs": [],
   "source": [
    "# generate bar graph comparing account ownership across different regions\n",
    "def filter_regions(df):\n",
    "    regions = ['East Asia & Pacific (excluding high income)', \n",
    "           'Europe & Central Asia (excluding high income)', \n",
    "           'Middle East & North Africa (excluding high income)',\n",
    "           'Sub-Saharan Africa (excluding high income)',\n",
    "           'Latin America & Caribbean (excluding high income)', \n",
    "           'South Asia']\n",
    "    \n",
    "    findex_region = df.filter((pl.col('countrynewwb').is_in(regions)) & (pl.col('group2') == 'all'))\n",
    "    clean_region_name = findex_region.with_columns(\n",
    "    pl.when(pl.col('countrynewwb') == 'East Asia & Pacific (excluding high income)').then(pl.lit('East Asia & Pacific'))\n",
    "    .when(pl.col('countrynewwb') == 'Europe & Central Asia (excluding high income)').then(pl.lit('Europe & Central Asia'))\n",
    "    .when(pl.col('countrynewwb') == 'Middle East & North Africa (excluding high income)').then(pl.lit('Middle East & North Africa'))\n",
    "    .when(pl.col('countrynewwb') == 'Latin America & Caribbean (excluding high income)').then(pl.lit('Latin America & Caribbean'))\n",
    "    .when(pl.col('countrynewwb') == 'Sub-Saharan Africa (excluding high income)').then(pl.lit('Sub-Saharan Africa'))\n",
    "    .otherwise(pl.col('countrynewwb'))  # keep original value if no match\n",
    "    .alias('clean_region_name')        # name of the new column\n",
    ")\n",
    "    \n",
    "    return clean_region_name\n"
   ]
  },
  {
   "cell_type": "code",
   "execution_count": 10,
   "metadata": {},
   "outputs": [],
   "source": [
    "def region_account_ownership(df): \n",
    "    region_account_chart = alt.Chart(df).mark_bar().encode(\n",
    "        x = 'year:N', \n",
    "        y = alt.Y('fiaccount_t_d:Q', title = 'Account at a bank or similiar financial institution(%)'),\n",
    "        column= alt.Column('clean_region_name',\n",
    "                           title='Region',\n",
    "                           header=alt.Header(labelAngle=45))\n",
    "    )\n",
    "    return region_account_chart\n",
    "\n",
    "region_account_ownership(filter_regions(process_data())).save('../milestones/static-draft-images/region_account_ownership.png', \n",
    "                                                             ppi=200)"
   ]
  },
  {
   "cell_type": "code",
   "execution_count": 11,
   "metadata": {},
   "outputs": [],
   "source": [
    "def region_mobile_account(df): \n",
    "    mm_flt = df.filter(pl.col('year') != 2011)\n",
    "    mm_chart = alt.Chart(mm_flt).mark_line(point=True).encode(\n",
    "        x = 'year:N', \n",
    "        y = alt.Y('mobileaccount_t_d:Q', title = 'Mobile Money Account(%)'), \n",
    "        column= alt.Column('clean_region_name',\n",
    "                           title='Region',\n",
    "                           header=alt.Header(labelAngle=40))\n",
    "    )\n",
    "    return mm_chart\n",
    "\n",
    "region_mobile_account(filter_regions(process_data())).save('../milestones/static-draft-images/region_mobile_account_ownership.png', \n",
    "                                                             ppi=200)"
   ]
  },
  {
   "cell_type": "code",
   "execution_count": 25,
   "metadata": {},
   "outputs": [],
   "source": [
    "def region_fin_resiliance(df): \n",
    "    chart = alt.Chart(df).mark_bar().encode(\n",
    "        x = 'year:N', \n",
    "        y = alt.Y('fin24aSD_ND:Q', title = 'Financial Resiliance (%)'),\n",
    "        column= alt.Column('clean_region_name',title='Region',header=alt.Header(labelAngle=45)))\n",
    "    return chart\n",
    "\n",
    "# low financial resiliance in South Asia \n",
    "region_fin_resiliance(filter_regions(process_data())).save('../milestones/static-draft-images/region_fin_resiliance.png', \n",
    "                                                             ppi=200)\n",
    "\n",
    "\n",
    "    "
   ]
  },
  {
   "cell_type": "code",
   "execution_count": 28,
   "metadata": {},
   "outputs": [],
   "source": [
    "def filter_south_asia(df, group = True): \n",
    "    global_findex_south_asia = df.filter((pl.col('countrynewwb').is_in(south_asia_countries))) \n",
    "    if group: \n",
    "        return global_findex_south_asia.filter(pl.col('group2') != 'all')\n",
    "    else: \n",
    "        return global_findex_south_asia.filter(pl.col('group2') == 'all')"
   ]
  },
  {
   "cell_type": "code",
   "execution_count": 37,
   "metadata": {},
   "outputs": [],
   "source": [
    "def long_acc_ownership_df(df):\n",
    "    account_df = df.select(pl.col(['countrynewwb', 'year', 'fiaccount_t_d','mobileaccount_t_d']))\n",
    "    long_accounts = account_df.unpivot(\n",
    "        index =['countrynewwb', 'year'], \n",
    "        on = ['fiaccount_t_d', 'mobileaccount_t_d'], \n",
    "        variable_name = 'account_type', \n",
    "        value_name = 'account_per')\n",
    "    long_accounts = long_accounts.with_columns(\n",
    "        pl.when(pl.col('account_type') == 'fiaccount_t_d').then(pl.lit('Bank or similar inst.'))\n",
    "            .when(pl.col('account_type') == 'mobileaccount_t_d').then(pl.lit('Mobile Money'))\n",
    "            .otherwise(pl.col('account_type'))\n",
    "            .alias('account_type'))\n",
    "\n",
    "    return long_accounts\n",
    "\n"
   ]
  },
  {
   "cell_type": "code",
   "execution_count": 54,
   "metadata": {},
   "outputs": [],
   "source": [
    "def country_account_ownership(df):\n",
    "    country_account_chart = alt.Chart(df).mark_bar().encode(\n",
    "        x = 'year:N', \n",
    "        y = alt.Y('account_per:Q', title = 'Account(%)'),\n",
    "        color = alt.Color('account_type', title  = 'Account Type'),\n",
    "        xOffset = 'account_type',\n",
    "        column = alt.Column('countrynewwb', title = 'Country', sort = south_asia_countries))\n",
    "\n",
    "    return country_account_chart\n",
    "country_account_ownership(long_acc_ownership_df(filter_south_asia(process_data(), False))).save('../milestones/static-draft-images/country_account_ownership.png', \n",
    "                                                             ppi=200)"
   ]
  },
  {
   "cell_type": "code",
   "execution_count": 55,
   "metadata": {},
   "outputs": [],
   "source": [
    "def account_owenership_gender_gaps(df):\n",
    "    gender_df = df.filter(pl.col('group') == 'gender')\n",
    "    account_gender_gap = alt.Chart(gender_df).mark_line(point = True).encode(\n",
    "        x = 'year:N', \n",
    "        y = alt.Y('fiaccount_t_d:Q',title = 'Account at a bank or similiar financial institution(%)'),\n",
    "        xOffset='group2',\n",
    "        color = alt.Color('group2').scale(scheme = 'redyellowgreen').title('Gender'), \n",
    "        column = alt.Column('countrynewwb', title = 'Country', sort = south_asia_countries)\n",
    "        \n",
    "    )\n",
    "    return account_gender_gap\n",
    "account_owenership_gender_gaps(filter_south_asia(process_data(), True)).save('../milestones/static-draft-images/account_owenership_gender_gaps.png', \n",
    "                                                             ppi=200)"
   ]
  },
  {
   "cell_type": "code",
   "execution_count": 60,
   "metadata": {},
   "outputs": [],
   "source": [
    "def mobile_account_gender_gaps(df):\n",
    "    gender_df = df.filter(pl.col('group') == 'gender')\n",
    "    mobile_gender_gap = alt.Chart(gender_df).mark_line(point = True).encode(\n",
    "        y = alt.Y('group2:N', title = 'Gender'),\n",
    "        x = alt.X('mobileaccount_t_d:Q',title = 'Mobile Money Account(%)'),\n",
    "        text = 'year:N',\n",
    "        column = alt.Column('countrynewwb', title = 'Country', sort = south_asia_countries))\n",
    "    \n",
    "   \n",
    "    return mobile_gender_gap \n",
    "\n",
    "mobile_account_gender_gaps(filter_south_asia(process_data(), True)).save('../milestones/static-draft-images/mobile_account_gender_gaps.png', \n",
    "                                                             ppi=200)"
   ]
  },
  {
   "cell_type": "code",
   "execution_count": 66,
   "metadata": {},
   "outputs": [],
   "source": [
    "def account_age_gaps(df):\n",
    "    age_df = df.filter(pl.col('group') == 'age_cat')\n",
    "    account_age_gap = alt.Chart(age_df).mark_rect().encode(\n",
    "        x = 'year:N', \n",
    "        y = alt.Y('group2:N', title = 'Age'), \n",
    "        color = alt.Color('fiaccount_t_d:Q', title = 'Account at bank or similiar inst.(%)')\n",
    "            .scale(scheme = 'lightmulti'), \n",
    "        column = alt.Column('countrynewwb', title = 'Country', sort = south_asia_countries)\n",
    "            \n",
    "        \n",
    "    )\n",
    "    return account_age_gap\n",
    "\n",
    "account_age_gaps(filter_south_asia(process_data(), True)).save('../milestones/static-draft-images/account_age_gaps.png', \n",
    "                                                             ppi=200)"
   ]
  },
  {
   "cell_type": "code",
   "execution_count": 67,
   "metadata": {},
   "outputs": [],
   "source": [
    "def account_income_gaps(df):\n",
    "    income_df = df.filter(pl.col('group') == 'income')\n",
    "    account_income_gap = alt.Chart(income_df).mark_rect().encode(\n",
    "        x = 'year:N', \n",
    "        y = alt.Y('group2:N', title = 'Income'), \n",
    "        color = alt.Color('fiaccount_t_d:Q', title = 'Account at bank or similiar inst.(%)')\n",
    "            .scale(scheme = 'lightmulti'), \n",
    "        column = alt.Column('countrynewwb', title = 'Country', sort = south_asia_countries)\n",
    "            \n",
    "        \n",
    "    )\n",
    "    return account_income_gap\n",
    "\n",
    "account_income_gaps(filter_south_asia(process_data(), True)).save('../milestones/static-draft-images/account_income_gaps.png', \n",
    "                                                             ppi=200)\n",
    "                          "
   ]
  },
  {
   "cell_type": "code",
   "execution_count": 18,
   "metadata": {},
   "outputs": [
    {
     "data": {
      "text/html": [
       "\n",
       "<style>\n",
       "  #altair-viz-1b9df545e26c4986b911aaaf5001190c.vega-embed {\n",
       "    width: 100%;\n",
       "    display: flex;\n",
       "  }\n",
       "\n",
       "  #altair-viz-1b9df545e26c4986b911aaaf5001190c.vega-embed details,\n",
       "  #altair-viz-1b9df545e26c4986b911aaaf5001190c.vega-embed details summary {\n",
       "    position: relative;\n",
       "  }\n",
       "</style>\n",
       "<div id=\"altair-viz-1b9df545e26c4986b911aaaf5001190c\"></div>\n",
       "<script type=\"text/javascript\">\n",
       "  var VEGA_DEBUG = (typeof VEGA_DEBUG == \"undefined\") ? {} : VEGA_DEBUG;\n",
       "  (function(spec, embedOpt){\n",
       "    let outputDiv = document.currentScript.previousElementSibling;\n",
       "    if (outputDiv.id !== \"altair-viz-1b9df545e26c4986b911aaaf5001190c\") {\n",
       "      outputDiv = document.getElementById(\"altair-viz-1b9df545e26c4986b911aaaf5001190c\");\n",
       "    }\n",
       "\n",
       "    const paths = {\n",
       "      \"vega\": \"https://cdn.jsdelivr.net/npm/vega@5?noext\",\n",
       "      \"vega-lib\": \"https://cdn.jsdelivr.net/npm/vega-lib?noext\",\n",
       "      \"vega-lite\": \"https://cdn.jsdelivr.net/npm/vega-lite@5.20.1?noext\",\n",
       "      \"vega-embed\": \"https://cdn.jsdelivr.net/npm/vega-embed@6?noext\",\n",
       "    };\n",
       "\n",
       "    function maybeLoadScript(lib, version) {\n",
       "      var key = `${lib.replace(\"-\", \"\")}_version`;\n",
       "      return (VEGA_DEBUG[key] == version) ?\n",
       "        Promise.resolve(paths[lib]) :\n",
       "        new Promise(function(resolve, reject) {\n",
       "          var s = document.createElement('script');\n",
       "          document.getElementsByTagName(\"head\")[0].appendChild(s);\n",
       "          s.async = true;\n",
       "          s.onload = () => {\n",
       "            VEGA_DEBUG[key] = version;\n",
       "            return resolve(paths[lib]);\n",
       "          };\n",
       "          s.onerror = () => reject(`Error loading script: ${paths[lib]}`);\n",
       "          s.src = paths[lib];\n",
       "        });\n",
       "    }\n",
       "\n",
       "    function showError(err) {\n",
       "      outputDiv.innerHTML = `<div class=\"error\" style=\"color:red;\">${err}</div>`;\n",
       "      throw err;\n",
       "    }\n",
       "\n",
       "    function displayChart(vegaEmbed) {\n",
       "      vegaEmbed(outputDiv, spec, embedOpt)\n",
       "        .catch(err => showError(`Javascript Error: ${err.message}<br>This usually means there's a typo in your chart specification. See the javascript console for the full traceback.`));\n",
       "    }\n",
       "\n",
       "    if(typeof define === \"function\" && define.amd) {\n",
       "      requirejs.config({paths});\n",
       "      let deps = [\"vega-embed\"];\n",
       "      require(deps, displayChart, err => showError(`Error loading script: ${err.message}`));\n",
       "    } else {\n",
       "      maybeLoadScript(\"vega\", \"5\")\n",
       "        .then(() => maybeLoadScript(\"vega-lite\", \"5.20.1\"))\n",
       "        .then(() => maybeLoadScript(\"vega-embed\", \"6\"))\n",
       "        .catch(showError)\n",
       "        .then(() => displayChart(vegaEmbed));\n",
       "    }\n",
       "  })({\"config\": {\"view\": {\"continuousWidth\": 300, \"continuousHeight\": 300}}, \"data\": {\"name\": \"data-de083beb7942fbc8d8c413e5db2d7247\"}, \"mark\": {\"type\": \"line\", \"point\": true}, \"encoding\": {\"column\": {\"field\": \"countrynewwb\", \"sort\": [\"South Asia\", \"India\", \"Bangladesh\", \"Pakistan\"], \"title\": \"Country\", \"type\": \"nominal\"}, \"x\": {\"field\": \"mobileaccount_t_d\", \"title\": \"Mobile Money Account(%)\", \"type\": \"quantitative\"}, \"y\": {\"field\": \"group2\", \"title\": \"Gender\", \"type\": \"nominal\"}}, \"$schema\": \"https://vega.github.io/schema/vega-lite/v5.20.1.json\", \"datasets\": {\"data-de083beb7942fbc8d8c413e5db2d7247\": [{\"countrynewwb\": \"Bangladesh\", \"codewb\": \"BGD\", \"year\": 2011, \"pop_adult\": \"100376575\", \"regionwb24_hi\": \"South Asia (excluding high income)\", \"incomegroupwb24\": \"Lower middle income\", \"group\": \"income\", \"group2\": \"richest 60%\", \"account_t_d\": 40.1809881, \"fiaccount_t_d\": 40.1809881, \"mobileaccount_t_d\": null, \"fin11a\": null, \"fin11b\": null, \"fin11c\": null, \"fin11f\": null, \"fin11d\": null, \"fin11e\": null, \"fin14a\": null, \"fin14b\": null, \"fin14c\": null, \"fin14d\": null, \"fin26a\": null, \"fin26b\": null, \"fin27a\": null, \"g20_made\": null, \"fin17f\": null, \"fin17a_17a1_d\": 18.230187400000002, \"fin17a\": 18.230187400000002, \"fin17b\": null, \"fin17c\": null, \"fin24aSD_ND\": null}, {\"countrynewwb\": \"Bangladesh\", \"codewb\": \"BGD\", \"year\": 2011, \"pop_adult\": \"100376575\", \"regionwb24_hi\": \"South Asia (excluding high income)\", \"incomegroupwb24\": \"Lower middle income\", \"group\": \"income\", \"group2\": \"poorest 40%\", \"account_t_d\": 19.0637566, \"fiaccount_t_d\": 19.0637566, \"mobileaccount_t_d\": null, \"fin11a\": null, \"fin11b\": null, \"fin11c\": null, \"fin11f\": null, \"fin11d\": null, \"fin11e\": null, \"fin14a\": null, \"fin14b\": null, \"fin14c\": null, \"fin14d\": null, \"fin26a\": null, \"fin26b\": null, \"fin27a\": null, \"g20_made\": null, \"fin17f\": null, \"fin17a_17a1_d\": 14.242194699999999, \"fin17a\": 14.242194699999999, \"fin17b\": null, \"fin17c\": null, \"fin24aSD_ND\": null}, {\"countrynewwb\": \"India\", \"codewb\": \"IND\", \"year\": 2011, \"pop_adult\": \"853745004\", \"regionwb24_hi\": \"South Asia (excluding high income)\", \"incomegroupwb24\": \"Lower middle income\", \"group\": \"income\", \"group2\": \"richest 60%\", \"account_t_d\": 40.7300174, \"fiaccount_t_d\": 40.7300174, \"mobileaccount_t_d\": null, \"fin11a\": null, \"fin11b\": null, \"fin11c\": null, \"fin11f\": null, \"fin11d\": null, \"fin11e\": null, \"fin14a\": null, \"fin14b\": null, \"fin14c\": null, \"fin14d\": null, \"fin26a\": null, \"fin26b\": null, \"fin27a\": null, \"g20_made\": null, \"fin17f\": null, \"fin17a_17a1_d\": 12.3979418, \"fin17a\": 12.3979418, \"fin17b\": null, \"fin17c\": null, \"fin24aSD_ND\": null}, {\"countrynewwb\": \"India\", \"codewb\": \"IND\", \"year\": 2011, \"pop_adult\": \"853745004\", \"regionwb24_hi\": \"South Asia (excluding high income)\", \"incomegroupwb24\": \"Lower middle income\", \"group\": \"income\", \"group2\": \"poorest 40%\", \"account_t_d\": 26.9714503, \"fiaccount_t_d\": 26.9714503, \"mobileaccount_t_d\": null, \"fin11a\": null, \"fin11b\": null, \"fin11c\": null, \"fin11f\": null, \"fin11d\": null, \"fin11e\": null, \"fin14a\": null, \"fin14b\": null, \"fin14c\": null, \"fin14d\": null, \"fin26a\": null, \"fin26b\": null, \"fin27a\": null, \"g20_made\": null, \"fin17f\": null, \"fin17a_17a1_d\": 10.4111404, \"fin17a\": 10.4111404, \"fin17b\": null, \"fin17c\": null, \"fin24aSD_ND\": null}, {\"countrynewwb\": \"Pakistan\", \"codewb\": \"PAK\", \"year\": 2011, \"pop_adult\": \"120857470\", \"regionwb24_hi\": \"South Asia (excluding high income)\", \"incomegroupwb24\": \"Lower middle income\", \"group\": \"income\", \"group2\": \"richest 60%\", \"account_t_d\": 13.944890099999999, \"fiaccount_t_d\": 13.944890099999999, \"mobileaccount_t_d\": null, \"fin11a\": null, \"fin11b\": null, \"fin11c\": null, \"fin11f\": null, \"fin11d\": null, \"fin11e\": null, \"fin14a\": null, \"fin14b\": null, \"fin14c\": null, \"fin14d\": null, \"fin26a\": null, \"fin26b\": null, \"fin27a\": null, \"g20_made\": null, \"fin17f\": null, \"fin17a_17a1_d\": null, \"fin17a\": null, \"fin17b\": null, \"fin17c\": null, \"fin24aSD_ND\": null}, {\"countrynewwb\": \"Pakistan\", \"codewb\": \"PAK\", \"year\": 2011, \"pop_adult\": \"120857470\", \"regionwb24_hi\": \"South Asia (excluding high income)\", \"incomegroupwb24\": \"Lower middle income\", \"group\": \"income\", \"group2\": \"poorest 40%\", \"account_t_d\": 4.8078734999999995, \"fiaccount_t_d\": 4.8078734999999995, \"mobileaccount_t_d\": null, \"fin11a\": null, \"fin11b\": null, \"fin11c\": null, \"fin11f\": null, \"fin11d\": null, \"fin11e\": null, \"fin14a\": null, \"fin14b\": null, \"fin14c\": null, \"fin14d\": null, \"fin26a\": null, \"fin26b\": null, \"fin27a\": null, \"g20_made\": null, \"fin17f\": null, \"fin17a_17a1_d\": null, \"fin17a\": null, \"fin17b\": null, \"fin17c\": null, \"fin24aSD_ND\": null}, {\"countrynewwb\": \"Bangladesh\", \"codewb\": \"BGD\", \"year\": 2014, \"pop_adult\": \"105778630\", \"regionwb24_hi\": \"South Asia (excluding high income)\", \"incomegroupwb24\": \"Lower middle income\", \"group\": \"income\", \"group2\": \"richest 60%\", \"account_t_d\": 36.2922094, \"fiaccount_t_d\": 34.0840073, \"mobileaccount_t_d\": null, \"fin11a\": null, \"fin11b\": null, \"fin11c\": null, \"fin11f\": null, \"fin11d\": null, \"fin11e\": null, \"fin14a\": null, \"fin14b\": null, \"fin14c\": null, \"fin14d\": null, \"fin26a\": null, \"fin26b\": null, \"fin27a\": null, \"g20_made\": null, \"fin17f\": null, \"fin17a_17a1_d\": null, \"fin17a\": null, \"fin17b\": null, \"fin17c\": null, \"fin24aSD_ND\": null}, {\"countrynewwb\": \"Bangladesh\", \"codewb\": \"BGD\", \"year\": 2014, \"pop_adult\": \"105778630\", \"regionwb24_hi\": \"South Asia (excluding high income)\", \"incomegroupwb24\": \"Lower middle income\", \"group\": \"income\", \"group2\": \"poorest 40%\", \"account_t_d\": 23.0339877, \"fiaccount_t_d\": 21.7248226, \"mobileaccount_t_d\": null, \"fin11a\": null, \"fin11b\": null, \"fin11c\": null, \"fin11f\": null, \"fin11d\": null, \"fin11e\": null, \"fin14a\": null, \"fin14b\": null, \"fin14c\": null, \"fin14d\": null, \"fin26a\": null, \"fin26b\": null, \"fin27a\": null, \"g20_made\": null, \"fin17f\": null, \"fin17a_17a1_d\": null, \"fin17a\": null, \"fin17b\": null, \"fin17c\": null, \"fin24aSD_ND\": null}, {\"countrynewwb\": \"India\", \"codewb\": \"IND\", \"year\": 2014, \"pop_adult\": \"907853291\", \"regionwb24_hi\": \"South Asia (excluding high income)\", \"incomegroupwb24\": \"Lower middle income\", \"group\": \"income\", \"group2\": \"richest 60%\", \"account_t_d\": 59.4840292, \"fiaccount_t_d\": 58.9251085, \"mobileaccount_t_d\": null, \"fin11a\": null, \"fin11b\": null, \"fin11c\": null, \"fin11f\": null, \"fin11d\": null, \"fin11e\": null, \"fin14a\": null, \"fin14b\": null, \"fin14c\": null, \"fin14d\": null, \"fin26a\": null, \"fin26b\": null, \"fin27a\": null, \"g20_made\": 21.758383300000002, \"fin17f\": null, \"fin17a_17a1_d\": 19.1025582, \"fin17a\": 19.1025582, \"fin17b\": null, \"fin17c\": null, \"fin24aSD_ND\": null}, {\"countrynewwb\": \"India\", \"codewb\": \"IND\", \"year\": 2014, \"pop_adult\": \"907853291\", \"regionwb24_hi\": \"South Asia (excluding high income)\", \"incomegroupwb24\": \"Lower middle income\", \"group\": \"income\", \"group2\": \"poorest 40%\", \"account_t_d\": 43.6106769, \"fiaccount_t_d\": 43.4801675, \"mobileaccount_t_d\": null, \"fin11a\": null, \"fin11b\": null, \"fin11c\": null, \"fin11f\": null, \"fin11d\": null, \"fin11e\": null, \"fin14a\": null, \"fin14b\": null, \"fin14c\": null, \"fin14d\": null, \"fin26a\": null, \"fin26b\": null, \"fin27a\": null, \"g20_made\": 6.6543594, \"fin17f\": null, \"fin17a_17a1_d\": 7.2335579, \"fin17a\": 7.2335579, \"fin17b\": null, \"fin17c\": null, \"fin24aSD_ND\": null}, {\"countrynewwb\": \"Pakistan\", \"codewb\": \"PAK\", \"year\": 2014, \"pop_adult\": \"128875593\", \"regionwb24_hi\": \"South Asia (excluding high income)\", \"incomegroupwb24\": \"Lower middle income\", \"group\": \"income\", \"group2\": \"richest 60%\", \"account_t_d\": 15.210294799999998, \"fiaccount_t_d\": null, \"mobileaccount_t_d\": null, \"fin11a\": null, \"fin11b\": null, \"fin11c\": null, \"fin11f\": null, \"fin11d\": null, \"fin11e\": null, \"fin14a\": null, \"fin14b\": null, \"fin14c\": null, \"fin14d\": null, \"fin26a\": null, \"fin26b\": null, \"fin27a\": null, \"g20_made\": null, \"fin17f\": null, \"fin17a_17a1_d\": null, \"fin17a\": null, \"fin17b\": null, \"fin17c\": 12.9652047, \"fin24aSD_ND\": null}, {\"countrynewwb\": \"Pakistan\", \"codewb\": \"PAK\", \"year\": 2014, \"pop_adult\": \"128875593\", \"regionwb24_hi\": \"South Asia (excluding high income)\", \"incomegroupwb24\": \"Lower middle income\", \"group\": \"income\", \"group2\": \"poorest 40%\", \"account_t_d\": 9.7547671, \"fiaccount_t_d\": null, \"mobileaccount_t_d\": null, \"fin11a\": null, \"fin11b\": null, \"fin11c\": null, \"fin11f\": null, \"fin11d\": null, \"fin11e\": null, \"fin14a\": null, \"fin14b\": null, \"fin14c\": null, \"fin14d\": null, \"fin26a\": null, \"fin26b\": null, \"fin27a\": null, \"g20_made\": null, \"fin17f\": null, \"fin17a_17a1_d\": null, \"fin17a\": null, \"fin17b\": null, \"fin17c\": 9.0379873, \"fin24aSD_ND\": null}, {\"countrynewwb\": \"Bangladesh\", \"codewb\": \"BGD\", \"year\": 2017, \"pop_adult\": \"111658076\", \"regionwb24_hi\": \"South Asia (excluding high income)\", \"incomegroupwb24\": \"Lower middle income\", \"group\": \"income\", \"group2\": \"richest 60%\", \"account_t_d\": 56.6799304, \"fiaccount_t_d\": 46.121262699999996, \"mobileaccount_t_d\": 25.687143499999998, \"fin11a\": null, \"fin11b\": null, \"fin11c\": null, \"fin11f\": null, \"fin11d\": null, \"fin11e\": null, \"fin14a\": null, \"fin14b\": null, \"fin14c\": null, \"fin14d\": null, \"fin26a\": null, \"fin26b\": null, \"fin27a\": null, \"g20_made\": 35.204780400000004, \"fin17f\": null, \"fin17a_17a1_d\": null, \"fin17a\": null, \"fin17b\": null, \"fin17c\": 11.6142646, \"fin24aSD_ND\": null}, {\"countrynewwb\": \"Bangladesh\", \"codewb\": \"BGD\", \"year\": 2017, \"pop_adult\": \"111658076\", \"regionwb24_hi\": \"South Asia (excluding high income)\", \"incomegroupwb24\": \"Lower middle income\", \"group\": \"income\", \"group2\": \"poorest 40%\", \"account_t_d\": 40.0787327, \"fiaccount_t_d\": 33.235247699999995, \"mobileaccount_t_d\": 14.5716919, \"fin11a\": null, \"fin11b\": null, \"fin11c\": null, \"fin11f\": null, \"fin11d\": null, \"fin11e\": null, \"fin14a\": null, \"fin14b\": null, \"fin14c\": null, \"fin14d\": null, \"fin26a\": null, \"fin26b\": null, \"fin27a\": null, \"g20_made\": 22.5156219, \"fin17f\": null, \"fin17a_17a1_d\": null, \"fin17a\": null, \"fin17b\": null, \"fin17c\": 11.8499504, \"fin24aSD_ND\": null}, {\"countrynewwb\": \"India\", \"codewb\": \"IND\", \"year\": 2017, \"pop_adult\": \"962463650\", \"regionwb24_hi\": \"South Asia (excluding high income)\", \"incomegroupwb24\": \"Lower middle income\", \"group\": \"income\", \"group2\": \"richest 60%\", \"account_t_d\": 81.7354241, \"fiaccount_t_d\": 81.6768723, \"mobileaccount_t_d\": null, \"fin11a\": null, \"fin11b\": null, \"fin11c\": null, \"fin11f\": null, \"fin11d\": null, \"fin11e\": null, \"fin14a\": null, \"fin14b\": null, \"fin14c\": null, \"fin14d\": null, \"fin26a\": null, \"fin26b\": null, \"fin27a\": null, \"g20_made\": 26.2441274, \"fin17f\": null, \"fin17a_17a1_d\": 24.808307600000003, \"fin17a\": 24.808307600000003, \"fin17b\": null, \"fin17c\": null, \"fin24aSD_ND\": null}, {\"countrynewwb\": \"India\", \"codewb\": \"IND\", \"year\": 2017, \"pop_adult\": \"962463650\", \"regionwb24_hi\": \"South Asia (excluding high income)\", \"incomegroupwb24\": \"Lower middle income\", \"group\": \"income\", \"group2\": \"poorest 40%\", \"account_t_d\": 77.0829503, \"fiaccount_t_d\": 77.0829503, \"mobileaccount_t_d\": null, \"fin11a\": null, \"fin11b\": null, \"fin11c\": null, \"fin11f\": null, \"fin11d\": null, \"fin11e\": null, \"fin14a\": null, \"fin14b\": null, \"fin14c\": null, \"fin14d\": null, \"fin26a\": null, \"fin26b\": null, \"fin27a\": null, \"g20_made\": 10.5560138, \"fin17f\": null, \"fin17a_17a1_d\": 11.7911813, \"fin17a\": 11.7911813, \"fin17b\": null, \"fin17c\": null, \"fin24aSD_ND\": null}, {\"countrynewwb\": \"Pakistan\", \"codewb\": \"PAK\", \"year\": 2017, \"pop_adult\": \"135055510\", \"regionwb24_hi\": \"South Asia (excluding high income)\", \"incomegroupwb24\": \"Lower middle income\", \"group\": \"income\", \"group2\": \"richest 60%\", \"account_t_d\": 25.998449, \"fiaccount_t_d\": 21.5462817, \"mobileaccount_t_d\": null, \"fin11a\": null, \"fin11b\": null, \"fin11c\": null, \"fin11f\": null, \"fin11d\": null, \"fin11e\": null, \"fin14a\": null, \"fin14b\": null, \"fin14c\": null, \"fin14d\": null, \"fin26a\": null, \"fin26b\": null, \"fin27a\": null, \"g20_made\": 18.4979239, \"fin17f\": null, \"fin17a_17a1_d\": null, \"fin17a\": null, \"fin17b\": null, \"fin17c\": 25.076428699999997, \"fin24aSD_ND\": null}, {\"countrynewwb\": \"Pakistan\", \"codewb\": \"PAK\", \"year\": 2017, \"pop_adult\": \"135055510\", \"regionwb24_hi\": \"South Asia (excluding high income)\", \"incomegroupwb24\": \"Lower middle income\", \"group\": \"income\", \"group2\": \"poorest 40%\", \"account_t_d\": 14.2158896, \"fiaccount_t_d\": 12.789509099999998, \"mobileaccount_t_d\": null, \"fin11a\": null, \"fin11b\": null, \"fin11c\": null, \"fin11f\": null, \"fin11d\": null, \"fin11e\": null, \"fin14a\": null, \"fin14b\": null, \"fin14c\": null, \"fin14d\": null, \"fin26a\": null, \"fin26b\": null, \"fin27a\": null, \"g20_made\": 8.0285962, \"fin17f\": null, \"fin17a_17a1_d\": null, \"fin17a\": null, \"fin17b\": null, \"fin17c\": 15.1576567, \"fin24aSD_ND\": null}, {\"countrynewwb\": \"Bangladesh\", \"codewb\": \"BGD\", \"year\": 2021, \"pop_adult\": \"117641793\", \"regionwb24_hi\": \"South Asia (excluding high income)\", \"incomegroupwb24\": \"Lower middle income\", \"group\": \"income\", \"group2\": \"richest 60%\", \"account_t_d\": 55.574732999999995, \"fiaccount_t_d\": 40.5140443, \"mobileaccount_t_d\": 31.296325000000003, \"fin11a\": null, \"fin11b\": null, \"fin11c\": null, \"fin11f\": null, \"fin11d\": null, \"fin11e\": null, \"fin14a\": null, \"fin14b\": null, \"fin14c\": null, \"fin14d\": null, \"fin26a\": 12.369459200000001, \"fin26b\": null, \"fin27a\": null, \"g20_made\": 43.922228600000004, \"fin17f\": null, \"fin17a_17a1_d\": null, \"fin17a\": null, \"fin17b\": null, \"fin17c\": null, \"fin24aSD_ND\": 45.2079706}, {\"countrynewwb\": \"Bangladesh\", \"codewb\": \"BGD\", \"year\": 2021, \"pop_adult\": \"117641793\", \"regionwb24_hi\": \"South Asia (excluding high income)\", \"incomegroupwb24\": \"Lower middle income\", \"group\": \"income\", \"group2\": \"poorest 40%\", \"account_t_d\": 48.651171999999995, \"fiaccount_t_d\": 33.442468600000005, \"mobileaccount_t_d\": 25.5684277, \"fin11a\": null, \"fin11b\": null, \"fin11c\": null, \"fin11f\": null, \"fin11d\": null, \"fin11e\": null, \"fin14a\": null, \"fin14b\": null, \"fin14c\": null, \"fin14d\": null, \"fin26a\": 7.752719600000001, \"fin26b\": null, \"fin27a\": null, \"g20_made\": 35.5605605, \"fin17f\": null, \"fin17a_17a1_d\": null, \"fin17a\": null, \"fin17b\": null, \"fin17c\": null, \"fin24aSD_ND\": 26.2052964}, {\"countrynewwb\": \"India\", \"codewb\": \"IND\", \"year\": 2021, \"pop_adult\": \"1033092817\", \"regionwb24_hi\": \"South Asia (excluding high income)\", \"incomegroupwb24\": \"Lower middle income\", \"group\": \"income\", \"group2\": \"richest 60%\", \"account_t_d\": 77.047704, \"fiaccount_t_d\": 76.7392135, \"mobileaccount_t_d\": 15.160378, \"fin11a\": null, \"fin11b\": null, \"fin11c\": null, \"fin11f\": null, \"fin11d\": null, \"fin11e\": null, \"fin14a\": null, \"fin14b\": null, \"fin14c\": null, \"fin14d\": null, \"fin26a\": null, \"fin26b\": null, \"fin27a\": null, \"g20_made\": 32.632318999999995, \"fin17f\": null, \"fin17a_17a1_d\": 18.2277759, \"fin17a\": 16.4310859, \"fin17b\": null, \"fin17c\": null, \"fin24aSD_ND\": 42.6253267}, {\"countrynewwb\": \"India\", \"codewb\": \"IND\", \"year\": 2021, \"pop_adult\": \"1033092817\", \"regionwb24_hi\": \"South Asia (excluding high income)\", \"incomegroupwb24\": \"Lower middle income\", \"group\": \"income\", \"group2\": \"poorest 40%\", \"account_t_d\": 78.2527604, \"fiaccount_t_d\": 78.1480303, \"mobileaccount_t_d\": 3.3442013, \"fin11a\": null, \"fin11b\": null, \"fin11c\": null, \"fin11f\": null, \"fin11d\": null, \"fin11e\": null, \"fin14a\": null, \"fin14b\": null, \"fin14c\": null, \"fin14d\": null, \"fin26a\": null, \"fin26b\": null, \"fin27a\": null, \"g20_made\": 11.7206011, \"fin17f\": null, \"fin17a_17a1_d\": 7.8639904, \"fin17a\": 7.2203642, \"fin17b\": null, \"fin17c\": null, \"fin24aSD_ND\": 14.2255236}, {\"countrynewwb\": \"Pakistan\", \"codewb\": \"PAK\", \"year\": 2021, \"pop_adult\": \"146030491\", \"regionwb24_hi\": \"South Asia (excluding high income)\", \"incomegroupwb24\": \"Lower middle income\", \"group\": \"income\", \"group2\": \"richest 60%\", \"account_t_d\": 23.2122997, \"fiaccount_t_d\": 18.0997155, \"mobileaccount_t_d\": null, \"fin11a\": null, \"fin11b\": null, \"fin11c\": null, \"fin11f\": null, \"fin11d\": null, \"fin11e\": null, \"fin14a\": null, \"fin14b\": null, \"fin14c\": null, \"fin14d\": null, \"fin26a\": null, \"fin26b\": null, \"fin27a\": null, \"g20_made\": 15.855787900000001, \"fin17f\": null, \"fin17a_17a1_d\": null, \"fin17a\": null, \"fin17b\": null, \"fin17c\": null, \"fin24aSD_ND\": 35.2204611}, {\"countrynewwb\": \"Pakistan\", \"codewb\": \"PAK\", \"year\": 2021, \"pop_adult\": \"146030491\", \"regionwb24_hi\": \"South Asia (excluding high income)\", \"incomegroupwb24\": \"Lower middle income\", \"group\": \"income\", \"group2\": \"poorest 40%\", \"account_t_d\": 17.6113668, \"fiaccount_t_d\": 13.553258500000002, \"mobileaccount_t_d\": null, \"fin11a\": null, \"fin11b\": null, \"fin11c\": null, \"fin11f\": null, \"fin11d\": null, \"fin11e\": null, \"fin14a\": null, \"fin14b\": null, \"fin14c\": null, \"fin14d\": null, \"fin26a\": null, \"fin26b\": null, \"fin27a\": null, \"g20_made\": 13.384746699999999, \"fin17f\": null, \"fin17a_17a1_d\": null, \"fin17a\": null, \"fin17b\": null, \"fin17c\": null, \"fin24aSD_ND\": 21.990968}, {\"countrynewwb\": \"Bangladesh\", \"codewb\": \"BGD\", \"year\": 2024, \"pop_adult\": \"122837439\", \"regionwb24_hi\": \"South Asia (excluding high income)\", \"incomegroupwb24\": \"Lower middle income\", \"group\": \"income\", \"group2\": \"richest 60%\", \"account_t_d\": 48.189055200000006, \"fiaccount_t_d\": 38.213643600000005, \"mobileaccount_t_d\": 23.6437843, \"fin11a\": null, \"fin11b\": 10.1011771, \"fin11c\": null, \"fin11f\": null, \"fin11d\": 46.391624, \"fin11e\": 15.9269298, \"fin14a\": null, \"fin14b\": null, \"fin14c\": null, \"fin14d\": 36.0782387, \"fin26a\": null, \"fin26b\": null, \"fin27a\": null, \"g20_made\": 33.910372, \"fin17f\": null, \"fin17a_17a1_d\": 14.382050099999999, \"fin17a\": null, \"fin17b\": null, \"fin17c\": null, \"fin24aSD_ND\": 46.8465188}, {\"countrynewwb\": \"Bangladesh\", \"codewb\": \"BGD\", \"year\": 2024, \"pop_adult\": \"122837439\", \"regionwb24_hi\": \"South Asia (excluding high income)\", \"incomegroupwb24\": \"Lower middle income\", \"group\": \"income\", \"group2\": \"poorest 40%\", \"account_t_d\": 35.5467073, \"fiaccount_t_d\": 24.6417108, \"mobileaccount_t_d\": 16.232704000000002, \"fin11a\": null, \"fin11b\": 14.8798289, \"fin11c\": null, \"fin11f\": null, \"fin11d\": 67.7623533, \"fin11e\": 5.9367781, \"fin14a\": null, \"fin14b\": null, \"fin14c\": null, \"fin14d\": 51.470976199999996, \"fin26a\": null, \"fin26b\": null, \"fin27a\": null, \"g20_made\": 19.0200526, \"fin17f\": null, \"fin17a_17a1_d\": 4.6863445, \"fin17a\": null, \"fin17b\": null, \"fin17c\": null, \"fin24aSD_ND\": 18.3449606}, {\"countrynewwb\": \"India\", \"codewb\": \"IND\", \"year\": 2024, \"pop_adult\": \"1077731602\", \"regionwb24_hi\": \"South Asia (excluding high income)\", \"incomegroupwb24\": \"Lower middle income\", \"group\": \"income\", \"group2\": \"richest 60%\", \"account_t_d\": 90.83117109999999, \"fiaccount_t_d\": 90.2532259, \"mobileaccount_t_d\": 32.107343799999995, \"fin11a\": null, \"fin11b\": null, \"fin11c\": null, \"fin11f\": null, \"fin11d\": null, \"fin11e\": null, \"fin14a\": null, \"fin14b\": null, \"fin14c\": null, \"fin14d\": null, \"fin26a\": 21.052277699999998, \"fin26b\": 23.3358754, \"fin27a\": null, \"g20_made\": 38.125757199999995, \"fin17f\": null, \"fin17a_17a1_d\": 35.050959999999996, \"fin17a\": 31.066937700000004, \"fin17b\": 15.6080924, \"fin17c\": 16.0025635, \"fin24aSD_ND\": 37.7151122}, {\"countrynewwb\": \"India\", \"codewb\": \"IND\", \"year\": 2024, \"pop_adult\": \"1077731602\", \"regionwb24_hi\": \"South Asia (excluding high income)\", \"incomegroupwb24\": \"Lower middle income\", \"group\": \"income\", \"group2\": \"poorest 40%\", \"account_t_d\": 86.3166813, \"fiaccount_t_d\": 86.2597842, \"mobileaccount_t_d\": 9.5977622, \"fin11a\": null, \"fin11b\": null, \"fin11c\": null, \"fin11f\": null, \"fin11d\": null, \"fin11e\": null, \"fin14a\": null, \"fin14b\": null, \"fin14c\": null, \"fin14d\": null, \"fin26a\": 6.3471239, \"fin26b\": 5.5299613, \"fin27a\": null, \"g20_made\": 16.1367551, \"fin17f\": null, \"fin17a_17a1_d\": 14.8950433, \"fin17a\": 13.027686, \"fin17b\": 3.8998581999999997, \"fin17c\": 8.706001200000001, \"fin24aSD_ND\": 18.7029898}, {\"countrynewwb\": \"Pakistan\", \"codewb\": \"PAK\", \"year\": 2024, \"pop_adult\": \"155833628\", \"regionwb24_hi\": \"South Asia (excluding high income)\", \"incomegroupwb24\": \"Lower middle income\", \"group\": \"income\", \"group2\": \"richest 60%\", \"account_t_d\": 36.4061625, \"fiaccount_t_d\": 24.2566569, \"mobileaccount_t_d\": 25.6203931, \"fin11a\": 22.4115397, \"fin11b\": 34.667357700000004, \"fin11c\": 19.8191707, \"fin11f\": 16.4542018, \"fin11d\": 48.4669252, \"fin11e\": 13.2551103, \"fin14a\": 11.9911088, \"fin14b\": 28.8580809, \"fin14c\": 16.082806599999998, \"fin14d\": 41.9523655, \"fin26a\": null, \"fin26b\": null, \"fin27a\": null, \"g20_made\": 27.3077913, \"fin17f\": null, \"fin17a_17a1_d\": 16.447109100000002, \"fin17a\": null, \"fin17b\": null, \"fin17c\": 21.7245628, \"fin24aSD_ND\": 39.6365646}, {\"countrynewwb\": \"Pakistan\", \"codewb\": \"PAK\", \"year\": 2024, \"pop_adult\": \"155833628\", \"regionwb24_hi\": \"South Asia (excluding high income)\", \"incomegroupwb24\": \"Lower middle income\", \"group\": \"income\", \"group2\": \"poorest 40%\", \"account_t_d\": 13.606253800000001, \"fiaccount_t_d\": 9.302086599999999, \"mobileaccount_t_d\": 7.4445238, \"fin11a\": 31.3316277, \"fin11b\": 47.1464286, \"fin11c\": 23.793657200000002, \"fin11f\": 17.9072278, \"fin11d\": 57.5106283, \"fin11e\": 12.4465, \"fin14a\": 26.334708499999998, \"fin14b\": 44.6175259, \"fin14c\": 21.2323007, \"fin14d\": 55.3356439, \"fin26a\": null, \"fin26b\": null, \"fin27a\": null, \"g20_made\": 9.594718100000001, \"fin17f\": null, \"fin17a_17a1_d\": 6.973797900000001, \"fin17a\": null, \"fin17b\": null, \"fin17c\": 9.267223600000001, \"fin24aSD_ND\": 23.5433092}, {\"countrynewwb\": \"South Asia\", \"codewb\": \"SAS\", \"year\": 2011, \"pop_adult\": \"NA\", \"regionwb24_hi\": \"NA\", \"incomegroupwb24\": \"NA\", \"group\": \"income\", \"group2\": \"richest 60%\", \"account_t_d\": 37.7922041, \"fiaccount_t_d\": 37.7922041, \"mobileaccount_t_d\": null, \"fin11a\": null, \"fin11b\": null, \"fin11c\": null, \"fin11f\": null, \"fin11d\": null, \"fin11e\": null, \"fin14a\": null, \"fin14b\": null, \"fin14c\": null, \"fin14d\": null, \"fin26a\": null, \"fin26b\": null, \"fin27a\": null, \"g20_made\": null, \"fin17f\": null, \"fin17a_17a1_d\": 11.9220027, \"fin17a\": 11.9220027, \"fin17b\": null, \"fin17c\": null, \"fin24aSD_ND\": null}, {\"countrynewwb\": \"South Asia\", \"codewb\": \"SAS\", \"year\": 2011, \"pop_adult\": \"NA\", \"regionwb24_hi\": \"NA\", \"incomegroupwb24\": \"NA\", \"group\": \"income\", \"group2\": \"poorest 40%\", \"account_t_d\": 23.8002303, \"fiaccount_t_d\": 23.8002303, \"mobileaccount_t_d\": null, \"fin11a\": null, \"fin11b\": null, \"fin11c\": null, \"fin11f\": null, \"fin11d\": null, \"fin11e\": null, \"fin14a\": null, \"fin14b\": null, \"fin14c\": null, \"fin14d\": null, \"fin26a\": null, \"fin26b\": null, \"fin27a\": null, \"g20_made\": null, \"fin17f\": null, \"fin17a_17a1_d\": 9.733778299999999, \"fin17a\": 9.733778299999999, \"fin17b\": null, \"fin17c\": null, \"fin24aSD_ND\": null}, {\"countrynewwb\": \"South Asia\", \"codewb\": \"SAS\", \"year\": 2014, \"pop_adult\": \"NA\", \"regionwb24_hi\": \"NA\", \"incomegroupwb24\": \"NA\", \"group\": \"income\", \"group2\": \"richest 60%\", \"account_t_d\": 52.0157705, \"fiaccount_t_d\": 50.911675300000006, \"mobileaccount_t_d\": null, \"fin11a\": null, \"fin11b\": null, \"fin11c\": null, \"fin11f\": null, \"fin11d\": null, \"fin11e\": null, \"fin14a\": null, \"fin14b\": null, \"fin14c\": null, \"fin14d\": null, \"fin26a\": null, \"fin26b\": null, \"fin27a\": null, \"g20_made\": 18.427158499999997, \"fin17f\": null, \"fin17a_17a1_d\": 16.757473, \"fin17a\": 16.757473, \"fin17b\": null, \"fin17c\": null, \"fin24aSD_ND\": null}, {\"countrynewwb\": \"South Asia\", \"codewb\": \"SAS\", \"year\": 2014, \"pop_adult\": \"NA\", \"regionwb24_hi\": \"NA\", \"incomegroupwb24\": \"NA\", \"group\": \"income\", \"group2\": \"poorest 40%\", \"account_t_d\": 37.7610915, \"fiaccount_t_d\": 37.1016198, \"mobileaccount_t_d\": null, \"fin11a\": null, \"fin11b\": null, \"fin11c\": null, \"fin11f\": null, \"fin11d\": null, \"fin11e\": null, \"fin14a\": null, \"fin14b\": null, \"fin14c\": null, \"fin14d\": null, \"fin26a\": null, \"fin26b\": null, \"fin27a\": null, \"g20_made\": 6.0389403, \"fin17f\": null, \"fin17a_17a1_d\": 6.469200999999999, \"fin17a\": 6.469200999999999, \"fin17b\": null, \"fin17c\": null, \"fin24aSD_ND\": null}, {\"countrynewwb\": \"South Asia\", \"codewb\": \"SAS\", \"year\": 2017, \"pop_adult\": \"NA\", \"regionwb24_hi\": \"NA\", \"incomegroupwb24\": \"NA\", \"group\": \"income\", \"group2\": \"richest 60%\", \"account_t_d\": 72.0268204, \"fiaccount_t_d\": 70.5625983, \"mobileaccount_t_d\": null, \"fin11a\": null, \"fin11b\": null, \"fin11c\": null, \"fin11f\": null, \"fin11d\": null, \"fin11e\": null, \"fin14a\": null, \"fin14b\": null, \"fin14c\": null, \"fin14d\": null, \"fin26a\": null, \"fin26b\": null, \"fin27a\": null, \"g20_made\": 25.8286404, \"fin17f\": null, \"fin17a_17a1_d\": 21.7800992, \"fin17a\": 21.7800992, \"fin17b\": null, \"fin17c\": 12.574354, \"fin24aSD_ND\": null}, {\"countrynewwb\": \"South Asia\", \"codewb\": \"SAS\", \"year\": 2017, \"pop_adult\": \"NA\", \"regionwb24_hi\": \"NA\", \"incomegroupwb24\": \"NA\", \"group\": \"income\", \"group2\": \"poorest 40%\", \"account_t_d\": 65.4891983, \"fiaccount_t_d\": 64.7321542, \"mobileaccount_t_d\": null, \"fin11a\": null, \"fin11b\": null, \"fin11c\": null, \"fin11f\": null, \"fin11d\": null, \"fin11e\": null, \"fin14a\": null, \"fin14b\": null, \"fin14c\": null, \"fin14d\": null, \"fin26a\": null, \"fin26b\": null, \"fin27a\": null, \"g20_made\": 11.4797173, \"fin17f\": null, \"fin17a_17a1_d\": 10.1941851, \"fin17a\": 10.1941851, \"fin17b\": null, \"fin17c\": 6.7590296, \"fin24aSD_ND\": null}, {\"countrynewwb\": \"South Asia\", \"codewb\": \"SAS\", \"year\": 2021, \"pop_adult\": \"NA\", \"regionwb24_hi\": \"NA\", \"incomegroupwb24\": \"NA\", \"group\": \"income\", \"group2\": \"richest 60%\", \"account_t_d\": 68.2541961, \"fiaccount_t_d\": 66.138306, \"mobileaccount_t_d\": 15.337957399999999, \"fin11a\": null, \"fin11b\": null, \"fin11c\": null, \"fin11f\": null, \"fin11d\": null, \"fin11e\": null, \"fin14a\": null, \"fin14b\": null, \"fin14c\": null, \"fin14d\": null, \"fin26a\": null, \"fin26b\": null, \"fin27a\": null, \"g20_made\": 31.400752100000002, \"fin17f\": null, \"fin17a_17a1_d\": 15.8989785, \"fin17a\": 14.2986839, \"fin17b\": null, \"fin17c\": null, \"fin24aSD_ND\": 42.6950336}, {\"countrynewwb\": \"South Asia\", \"codewb\": \"SAS\", \"year\": 2021, \"pop_adult\": \"NA\", \"regionwb24_hi\": \"NA\", \"incomegroupwb24\": \"NA\", \"group\": \"income\", \"group2\": \"poorest 40%\", \"account_t_d\": 67.6053301, \"fiaccount_t_d\": 65.747355, \"mobileaccount_t_d\": 5.785181, \"fin11a\": null, \"fin11b\": null, \"fin11c\": null, \"fin11f\": null, \"fin11d\": null, \"fin11e\": null, \"fin14a\": null, \"fin14b\": null, \"fin14c\": null, \"fin14d\": null, \"fin26a\": null, \"fin26b\": null, \"fin27a\": null, \"g20_made\": 14.1500296, \"fin17f\": null, \"fin17a_17a1_d\": 7.0412722, \"fin17a\": 6.483630999999999, \"fin17b\": null, \"fin17c\": null, \"fin24aSD_ND\": 16.9862562}, {\"countrynewwb\": \"South Asia\", \"codewb\": \"SAS\", \"year\": 2024, \"pop_adult\": \"NA\", \"regionwb24_hi\": \"NA\", \"incomegroupwb24\": \"NA\", \"group\": \"income\", \"group2\": \"richest 60%\", \"account_t_d\": 80.4348488, \"fiaccount_t_d\": 77.691398, \"mobileaccount_t_d\": 30.003757599999997, \"fin11a\": null, \"fin11b\": 8.3296695, \"fin11c\": null, \"fin11f\": null, \"fin11d\": 14.3827341, \"fin11e\": null, \"fin14a\": null, \"fin14b\": null, \"fin14c\": null, \"fin14d\": null, \"fin26a\": 18.9942684, \"fin26b\": 19.8547644, \"fin27a\": null, \"g20_made\": 36.2144664, \"fin17f\": null, \"fin17a_17a1_d\": 30.9328076, \"fin17a\": 26.9579002, \"fin17b\": null, \"fin17c\": 15.940585700000002, \"fin24aSD_ND\": 39.2756137}, {\"countrynewwb\": \"South Asia\", \"codewb\": \"SAS\", \"year\": 2024, \"pop_adult\": \"NA\", \"regionwb24_hi\": \"NA\", \"incomegroupwb24\": \"NA\", \"group\": \"income\", \"group2\": \"poorest 40%\", \"account_t_d\": 73.2503055, \"fiaccount_t_d\": 71.7530417, \"mobileaccount_t_d\": 9.7649823, \"fin11a\": null, \"fin11b\": 13.3709668, \"fin11c\": null, \"fin11f\": null, \"fin11d\": 19.574640900000002, \"fin11e\": null, \"fin14a\": null, \"fin14b\": null, \"fin14c\": null, \"fin14d\": null, \"fin26a\": 5.6141128, \"fin26b\": 4.6845688, \"fin27a\": null, \"g20_made\": 15.6421178, \"fin17f\": null, \"fin17a_17a1_d\": 13.0666023, \"fin17a\": 11.151053, \"fin17b\": null, \"fin17c\": 8.7960756, \"fin24aSD_ND\": 19.4730864}]}}, {\"mode\": \"vega-lite\"});\n",
       "</script>"
      ],
      "text/plain": [
       "alt.Chart(...)"
      ]
     },
     "execution_count": 18,
     "metadata": {},
     "output_type": "execute_result"
    }
   ],
   "source": [
    "def mobile_income_gaps(df):\n",
    "    income_df = df.filter(pl.col('group') == 'income')\n",
    "    mobile_income_gap = alt.Chart(income_df).mark_line(point = True).encode(\n",
    "        y = alt.Y('group2:N', title = 'Gender'),\n",
    "        x = alt.X('mobileaccount_t_d:Q',title = 'Mobile Money Account(%)'),\n",
    "        column = alt.Column('countrynewwb', title = 'Country', sort = south_asia_countries)\n",
    "        \n",
    "    )\n",
    "    return mobile_income_gap\n",
    "\n",
    "mobile_income_gaps(filter_south_asia(process_data(), True))"
   ]
  },
  {
   "cell_type": "code",
   "execution_count": 20,
   "metadata": {},
   "outputs": [],
   "source": [
    "# saved formally: fin17a_17a1_d\n",
    "# saved informally: fin17\n",
    "# financial resiliance: fin24aSD_ND"
   ]
  },
  {
   "cell_type": "code",
   "execution_count": 21,
   "metadata": {},
   "outputs": [],
   "source": [
    "df = filter_south_asia(process_data(), False)"
   ]
  },
  {
   "cell_type": "code",
   "execution_count": 68,
   "metadata": {},
   "outputs": [],
   "source": [
    "def savings_behavior_df(df):\n",
    "    long_savings = df.unpivot(\n",
    "        index =['countrynewwb', 'year', 'group', 'group2'], \n",
    "        on = ['fin17a_17a1_d', 'fin17c'], \n",
    "        variable_name = 'savings_method', \n",
    "        value_name = 'savings_per')\n",
    "    \n",
    "    long_savings = long_savings.with_columns(\n",
    "    pl.when(pl.col('savings_method') == 'fin17a_17a1_d').then(pl.lit('Saved Formally'))\n",
    "    .when(pl.col('savings_method') == 'fin17c').then(pl.lit('Saved Informally'))\n",
    "    .otherwise(pl.col('savings_method'))\n",
    "    .alias('savings_method'))\n",
    "\n",
    "    clean_region_name = long_savings.with_columns(\n",
    "    pl.when(pl.col('countrynewwb') == 'East Asia & Pacific (excluding high income)').then(pl.lit('East Asia & Pacific'))\n",
    "    .when(pl.col('countrynewwb') == 'Europe & Central Asia (excluding high income)').then(pl.lit('Europe & Central Asia'))\n",
    "    .when(pl.col('countrynewwb') == 'Middle East & North Africa (excluding high income)').then(pl.lit('Middle East & North Africa'))\n",
    "    .when(pl.col('countrynewwb') == 'Latin America & Caribbean (excluding high income)').then(pl.lit('Latin America & Caribbean'))\n",
    "    .when(pl.col('countrynewwb') == 'Sub-Saharan Africa (excluding high income)').then(pl.lit('Sub-Saharan Africa'))\n",
    "    .otherwise(pl.col('countrynewwb'))  # keep original value if no match\n",
    "    .alias('clean_region_name')        # name of the new column\n",
    ")\n",
    "\n",
    "    long_savings = long_savings.filter(pl.col('year') != 2011)\n",
    "    \n",
    "    return clean_region_name\n",
    "    "
   ]
  },
  {
   "cell_type": "code",
   "execution_count": 69,
   "metadata": {},
   "outputs": [],
   "source": [
    "def region_savings(df): \n",
    "    region_savings = alt.Chart(df).mark_line(point = True).encode(\n",
    "        x = 'year:N',\n",
    "        y = alt.Y('savings_per:Q', title = 'Savings(%)'),\n",
    "        color = alt.Color('savings_method').scale(scheme = 'greenblue'),  \n",
    "        column = alt.Column('clean_region_name', title = 'Regions', header=alt.Header(labelAngle=45)))\n",
    "    return region_savings\n",
    "\n",
    "region_savings(savings_behavior_df(filter_regions(process_data()))).save('../milestones/static-draft-images/region_savings.png', \n",
    "                                                             ppi=200)"
   ]
  },
  {
   "cell_type": "code",
   "execution_count": 71,
   "metadata": {},
   "outputs": [],
   "source": [
    "def savings_behavior_by_country(df): \n",
    "    savings_chart = alt.Chart(df).mark_line(point = True).encode(\n",
    "        x = 'year:N',\n",
    "        y = 'savings_per:Q',\n",
    "        color = alt.Color('savings_method').scale(scheme = 'greenblue'),  \n",
    "        column = alt.Column('countrynewwb', title = 'Country', sort = south_asia_countries)\n",
    "    \n",
    "    )\n",
    "    return savings_chart\n",
    "\n",
    "savings_behavior_by_country(savings_behavior_df(filter_south_asia(process_data(), False))).save('../milestones/static-draft-images/savings_behavior_by_country.png', \n",
    "                                                             ppi=200)"
   ]
  },
  {
   "cell_type": "code",
   "execution_count": 62,
   "metadata": {},
   "outputs": [
    {
     "data": {
      "text/html": [
       "\n",
       "<style>\n",
       "  #altair-viz-cd3da25b34e14c3087838bb0fa29e179.vega-embed {\n",
       "    width: 100%;\n",
       "    display: flex;\n",
       "  }\n",
       "\n",
       "  #altair-viz-cd3da25b34e14c3087838bb0fa29e179.vega-embed details,\n",
       "  #altair-viz-cd3da25b34e14c3087838bb0fa29e179.vega-embed details summary {\n",
       "    position: relative;\n",
       "  }\n",
       "</style>\n",
       "<div id=\"altair-viz-cd3da25b34e14c3087838bb0fa29e179\"></div>\n",
       "<script type=\"text/javascript\">\n",
       "  var VEGA_DEBUG = (typeof VEGA_DEBUG == \"undefined\") ? {} : VEGA_DEBUG;\n",
       "  (function(spec, embedOpt){\n",
       "    let outputDiv = document.currentScript.previousElementSibling;\n",
       "    if (outputDiv.id !== \"altair-viz-cd3da25b34e14c3087838bb0fa29e179\") {\n",
       "      outputDiv = document.getElementById(\"altair-viz-cd3da25b34e14c3087838bb0fa29e179\");\n",
       "    }\n",
       "\n",
       "    const paths = {\n",
       "      \"vega\": \"https://cdn.jsdelivr.net/npm/vega@5?noext\",\n",
       "      \"vega-lib\": \"https://cdn.jsdelivr.net/npm/vega-lib?noext\",\n",
       "      \"vega-lite\": \"https://cdn.jsdelivr.net/npm/vega-lite@5.20.1?noext\",\n",
       "      \"vega-embed\": \"https://cdn.jsdelivr.net/npm/vega-embed@6?noext\",\n",
       "    };\n",
       "\n",
       "    function maybeLoadScript(lib, version) {\n",
       "      var key = `${lib.replace(\"-\", \"\")}_version`;\n",
       "      return (VEGA_DEBUG[key] == version) ?\n",
       "        Promise.resolve(paths[lib]) :\n",
       "        new Promise(function(resolve, reject) {\n",
       "          var s = document.createElement('script');\n",
       "          document.getElementsByTagName(\"head\")[0].appendChild(s);\n",
       "          s.async = true;\n",
       "          s.onload = () => {\n",
       "            VEGA_DEBUG[key] = version;\n",
       "            return resolve(paths[lib]);\n",
       "          };\n",
       "          s.onerror = () => reject(`Error loading script: ${paths[lib]}`);\n",
       "          s.src = paths[lib];\n",
       "        });\n",
       "    }\n",
       "\n",
       "    function showError(err) {\n",
       "      outputDiv.innerHTML = `<div class=\"error\" style=\"color:red;\">${err}</div>`;\n",
       "      throw err;\n",
       "    }\n",
       "\n",
       "    function displayChart(vegaEmbed) {\n",
       "      vegaEmbed(outputDiv, spec, embedOpt)\n",
       "        .catch(err => showError(`Javascript Error: ${err.message}<br>This usually means there's a typo in your chart specification. See the javascript console for the full traceback.`));\n",
       "    }\n",
       "\n",
       "    if(typeof define === \"function\" && define.amd) {\n",
       "      requirejs.config({paths});\n",
       "      let deps = [\"vega-embed\"];\n",
       "      require(deps, displayChart, err => showError(`Error loading script: ${err.message}`));\n",
       "    } else {\n",
       "      maybeLoadScript(\"vega\", \"5\")\n",
       "        .then(() => maybeLoadScript(\"vega-lite\", \"5.20.1\"))\n",
       "        .then(() => maybeLoadScript(\"vega-embed\", \"6\"))\n",
       "        .catch(showError)\n",
       "        .then(() => displayChart(vegaEmbed));\n",
       "    }\n",
       "  })({\"config\": {\"view\": {\"continuousWidth\": 300, \"continuousHeight\": 300}}, \"data\": {\"name\": \"data-de083beb7942fbc8d8c413e5db2d7247\"}, \"mark\": {\"type\": \"line\", \"point\": true}, \"encoding\": {\"color\": {\"field\": \"group2\", \"scale\": {\"scheme\": \"lightmulti\"}, \"title\": \"Income\", \"type\": \"nominal\"}, \"column\": {\"field\": \"countrynewwb\", \"sort\": [\"South Asia\", \"India\", \"Bangladesh\", \"Pakistan\"], \"title\": \"Country\", \"type\": \"nominal\"}, \"x\": {\"field\": \"year\", \"type\": \"nominal\"}, \"y\": {\"field\": \"fin17c\", \"title\": \"Saved Money Formally(%)\", \"type\": \"quantitative\"}}, \"$schema\": \"https://vega.github.io/schema/vega-lite/v5.20.1.json\", \"datasets\": {\"data-de083beb7942fbc8d8c413e5db2d7247\": [{\"countrynewwb\": \"Bangladesh\", \"codewb\": \"BGD\", \"year\": 2011, \"pop_adult\": \"100376575\", \"regionwb24_hi\": \"South Asia (excluding high income)\", \"incomegroupwb24\": \"Lower middle income\", \"group\": \"income\", \"group2\": \"richest 60%\", \"account_t_d\": 40.1809881, \"fiaccount_t_d\": 40.1809881, \"mobileaccount_t_d\": null, \"fin11a\": null, \"fin11b\": null, \"fin11c\": null, \"fin11f\": null, \"fin11d\": null, \"fin11e\": null, \"fin14a\": null, \"fin14b\": null, \"fin14c\": null, \"fin14d\": null, \"fin26a\": null, \"fin26b\": null, \"fin27a\": null, \"g20_made\": null, \"fin17f\": null, \"fin17a_17a1_d\": 18.230187400000002, \"fin17a\": 18.230187400000002, \"fin17b\": null, \"fin17c\": null, \"fin24aSD_ND\": null}, {\"countrynewwb\": \"Bangladesh\", \"codewb\": \"BGD\", \"year\": 2011, \"pop_adult\": \"100376575\", \"regionwb24_hi\": \"South Asia (excluding high income)\", \"incomegroupwb24\": \"Lower middle income\", \"group\": \"income\", \"group2\": \"poorest 40%\", \"account_t_d\": 19.0637566, \"fiaccount_t_d\": 19.0637566, \"mobileaccount_t_d\": null, \"fin11a\": null, \"fin11b\": null, \"fin11c\": null, \"fin11f\": null, \"fin11d\": null, \"fin11e\": null, \"fin14a\": null, \"fin14b\": null, \"fin14c\": null, \"fin14d\": null, \"fin26a\": null, \"fin26b\": null, \"fin27a\": null, \"g20_made\": null, \"fin17f\": null, \"fin17a_17a1_d\": 14.242194699999999, \"fin17a\": 14.242194699999999, \"fin17b\": null, \"fin17c\": null, \"fin24aSD_ND\": null}, {\"countrynewwb\": \"India\", \"codewb\": \"IND\", \"year\": 2011, \"pop_adult\": \"853745004\", \"regionwb24_hi\": \"South Asia (excluding high income)\", \"incomegroupwb24\": \"Lower middle income\", \"group\": \"income\", \"group2\": \"richest 60%\", \"account_t_d\": 40.7300174, \"fiaccount_t_d\": 40.7300174, \"mobileaccount_t_d\": null, \"fin11a\": null, \"fin11b\": null, \"fin11c\": null, \"fin11f\": null, \"fin11d\": null, \"fin11e\": null, \"fin14a\": null, \"fin14b\": null, \"fin14c\": null, \"fin14d\": null, \"fin26a\": null, \"fin26b\": null, \"fin27a\": null, \"g20_made\": null, \"fin17f\": null, \"fin17a_17a1_d\": 12.3979418, \"fin17a\": 12.3979418, \"fin17b\": null, \"fin17c\": null, \"fin24aSD_ND\": null}, {\"countrynewwb\": \"India\", \"codewb\": \"IND\", \"year\": 2011, \"pop_adult\": \"853745004\", \"regionwb24_hi\": \"South Asia (excluding high income)\", \"incomegroupwb24\": \"Lower middle income\", \"group\": \"income\", \"group2\": \"poorest 40%\", \"account_t_d\": 26.9714503, \"fiaccount_t_d\": 26.9714503, \"mobileaccount_t_d\": null, \"fin11a\": null, \"fin11b\": null, \"fin11c\": null, \"fin11f\": null, \"fin11d\": null, \"fin11e\": null, \"fin14a\": null, \"fin14b\": null, \"fin14c\": null, \"fin14d\": null, \"fin26a\": null, \"fin26b\": null, \"fin27a\": null, \"g20_made\": null, \"fin17f\": null, \"fin17a_17a1_d\": 10.4111404, \"fin17a\": 10.4111404, \"fin17b\": null, \"fin17c\": null, \"fin24aSD_ND\": null}, {\"countrynewwb\": \"Pakistan\", \"codewb\": \"PAK\", \"year\": 2011, \"pop_adult\": \"120857470\", \"regionwb24_hi\": \"South Asia (excluding high income)\", \"incomegroupwb24\": \"Lower middle income\", \"group\": \"income\", \"group2\": \"richest 60%\", \"account_t_d\": 13.944890099999999, \"fiaccount_t_d\": 13.944890099999999, \"mobileaccount_t_d\": null, \"fin11a\": null, \"fin11b\": null, \"fin11c\": null, \"fin11f\": null, \"fin11d\": null, \"fin11e\": null, \"fin14a\": null, \"fin14b\": null, \"fin14c\": null, \"fin14d\": null, \"fin26a\": null, \"fin26b\": null, \"fin27a\": null, \"g20_made\": null, \"fin17f\": null, \"fin17a_17a1_d\": null, \"fin17a\": null, \"fin17b\": null, \"fin17c\": null, \"fin24aSD_ND\": null}, {\"countrynewwb\": \"Pakistan\", \"codewb\": \"PAK\", \"year\": 2011, \"pop_adult\": \"120857470\", \"regionwb24_hi\": \"South Asia (excluding high income)\", \"incomegroupwb24\": \"Lower middle income\", \"group\": \"income\", \"group2\": \"poorest 40%\", \"account_t_d\": 4.8078734999999995, \"fiaccount_t_d\": 4.8078734999999995, \"mobileaccount_t_d\": null, \"fin11a\": null, \"fin11b\": null, \"fin11c\": null, \"fin11f\": null, \"fin11d\": null, \"fin11e\": null, \"fin14a\": null, \"fin14b\": null, \"fin14c\": null, \"fin14d\": null, \"fin26a\": null, \"fin26b\": null, \"fin27a\": null, \"g20_made\": null, \"fin17f\": null, \"fin17a_17a1_d\": null, \"fin17a\": null, \"fin17b\": null, \"fin17c\": null, \"fin24aSD_ND\": null}, {\"countrynewwb\": \"Bangladesh\", \"codewb\": \"BGD\", \"year\": 2014, \"pop_adult\": \"105778630\", \"regionwb24_hi\": \"South Asia (excluding high income)\", \"incomegroupwb24\": \"Lower middle income\", \"group\": \"income\", \"group2\": \"richest 60%\", \"account_t_d\": 36.2922094, \"fiaccount_t_d\": 34.0840073, \"mobileaccount_t_d\": null, \"fin11a\": null, \"fin11b\": null, \"fin11c\": null, \"fin11f\": null, \"fin11d\": null, \"fin11e\": null, \"fin14a\": null, \"fin14b\": null, \"fin14c\": null, \"fin14d\": null, \"fin26a\": null, \"fin26b\": null, \"fin27a\": null, \"g20_made\": null, \"fin17f\": null, \"fin17a_17a1_d\": null, \"fin17a\": null, \"fin17b\": null, \"fin17c\": null, \"fin24aSD_ND\": null}, {\"countrynewwb\": \"Bangladesh\", \"codewb\": \"BGD\", \"year\": 2014, \"pop_adult\": \"105778630\", \"regionwb24_hi\": \"South Asia (excluding high income)\", \"incomegroupwb24\": \"Lower middle income\", \"group\": \"income\", \"group2\": \"poorest 40%\", \"account_t_d\": 23.0339877, \"fiaccount_t_d\": 21.7248226, \"mobileaccount_t_d\": null, \"fin11a\": null, \"fin11b\": null, \"fin11c\": null, \"fin11f\": null, \"fin11d\": null, \"fin11e\": null, \"fin14a\": null, \"fin14b\": null, \"fin14c\": null, \"fin14d\": null, \"fin26a\": null, \"fin26b\": null, \"fin27a\": null, \"g20_made\": null, \"fin17f\": null, \"fin17a_17a1_d\": null, \"fin17a\": null, \"fin17b\": null, \"fin17c\": null, \"fin24aSD_ND\": null}, {\"countrynewwb\": \"India\", \"codewb\": \"IND\", \"year\": 2014, \"pop_adult\": \"907853291\", \"regionwb24_hi\": \"South Asia (excluding high income)\", \"incomegroupwb24\": \"Lower middle income\", \"group\": \"income\", \"group2\": \"richest 60%\", \"account_t_d\": 59.4840292, \"fiaccount_t_d\": 58.9251085, \"mobileaccount_t_d\": null, \"fin11a\": null, \"fin11b\": null, \"fin11c\": null, \"fin11f\": null, \"fin11d\": null, \"fin11e\": null, \"fin14a\": null, \"fin14b\": null, \"fin14c\": null, \"fin14d\": null, \"fin26a\": null, \"fin26b\": null, \"fin27a\": null, \"g20_made\": 21.758383300000002, \"fin17f\": null, \"fin17a_17a1_d\": 19.1025582, \"fin17a\": 19.1025582, \"fin17b\": null, \"fin17c\": null, \"fin24aSD_ND\": null}, {\"countrynewwb\": \"India\", \"codewb\": \"IND\", \"year\": 2014, \"pop_adult\": \"907853291\", \"regionwb24_hi\": \"South Asia (excluding high income)\", \"incomegroupwb24\": \"Lower middle income\", \"group\": \"income\", \"group2\": \"poorest 40%\", \"account_t_d\": 43.6106769, \"fiaccount_t_d\": 43.4801675, \"mobileaccount_t_d\": null, \"fin11a\": null, \"fin11b\": null, \"fin11c\": null, \"fin11f\": null, \"fin11d\": null, \"fin11e\": null, \"fin14a\": null, \"fin14b\": null, \"fin14c\": null, \"fin14d\": null, \"fin26a\": null, \"fin26b\": null, \"fin27a\": null, \"g20_made\": 6.6543594, \"fin17f\": null, \"fin17a_17a1_d\": 7.2335579, \"fin17a\": 7.2335579, \"fin17b\": null, \"fin17c\": null, \"fin24aSD_ND\": null}, {\"countrynewwb\": \"Pakistan\", \"codewb\": \"PAK\", \"year\": 2014, \"pop_adult\": \"128875593\", \"regionwb24_hi\": \"South Asia (excluding high income)\", \"incomegroupwb24\": \"Lower middle income\", \"group\": \"income\", \"group2\": \"richest 60%\", \"account_t_d\": 15.210294799999998, \"fiaccount_t_d\": null, \"mobileaccount_t_d\": null, \"fin11a\": null, \"fin11b\": null, \"fin11c\": null, \"fin11f\": null, \"fin11d\": null, \"fin11e\": null, \"fin14a\": null, \"fin14b\": null, \"fin14c\": null, \"fin14d\": null, \"fin26a\": null, \"fin26b\": null, \"fin27a\": null, \"g20_made\": null, \"fin17f\": null, \"fin17a_17a1_d\": null, \"fin17a\": null, \"fin17b\": null, \"fin17c\": 12.9652047, \"fin24aSD_ND\": null}, {\"countrynewwb\": \"Pakistan\", \"codewb\": \"PAK\", \"year\": 2014, \"pop_adult\": \"128875593\", \"regionwb24_hi\": \"South Asia (excluding high income)\", \"incomegroupwb24\": \"Lower middle income\", \"group\": \"income\", \"group2\": \"poorest 40%\", \"account_t_d\": 9.7547671, \"fiaccount_t_d\": null, \"mobileaccount_t_d\": null, \"fin11a\": null, \"fin11b\": null, \"fin11c\": null, \"fin11f\": null, \"fin11d\": null, \"fin11e\": null, \"fin14a\": null, \"fin14b\": null, \"fin14c\": null, \"fin14d\": null, \"fin26a\": null, \"fin26b\": null, \"fin27a\": null, \"g20_made\": null, \"fin17f\": null, \"fin17a_17a1_d\": null, \"fin17a\": null, \"fin17b\": null, \"fin17c\": 9.0379873, \"fin24aSD_ND\": null}, {\"countrynewwb\": \"Bangladesh\", \"codewb\": \"BGD\", \"year\": 2017, \"pop_adult\": \"111658076\", \"regionwb24_hi\": \"South Asia (excluding high income)\", \"incomegroupwb24\": \"Lower middle income\", \"group\": \"income\", \"group2\": \"richest 60%\", \"account_t_d\": 56.6799304, \"fiaccount_t_d\": 46.121262699999996, \"mobileaccount_t_d\": 25.687143499999998, \"fin11a\": null, \"fin11b\": null, \"fin11c\": null, \"fin11f\": null, \"fin11d\": null, \"fin11e\": null, \"fin14a\": null, \"fin14b\": null, \"fin14c\": null, \"fin14d\": null, \"fin26a\": null, \"fin26b\": null, \"fin27a\": null, \"g20_made\": 35.204780400000004, \"fin17f\": null, \"fin17a_17a1_d\": null, \"fin17a\": null, \"fin17b\": null, \"fin17c\": 11.6142646, \"fin24aSD_ND\": null}, {\"countrynewwb\": \"Bangladesh\", \"codewb\": \"BGD\", \"year\": 2017, \"pop_adult\": \"111658076\", \"regionwb24_hi\": \"South Asia (excluding high income)\", \"incomegroupwb24\": \"Lower middle income\", \"group\": \"income\", \"group2\": \"poorest 40%\", \"account_t_d\": 40.0787327, \"fiaccount_t_d\": 33.235247699999995, \"mobileaccount_t_d\": 14.5716919, \"fin11a\": null, \"fin11b\": null, \"fin11c\": null, \"fin11f\": null, \"fin11d\": null, \"fin11e\": null, \"fin14a\": null, \"fin14b\": null, \"fin14c\": null, \"fin14d\": null, \"fin26a\": null, \"fin26b\": null, \"fin27a\": null, \"g20_made\": 22.5156219, \"fin17f\": null, \"fin17a_17a1_d\": null, \"fin17a\": null, \"fin17b\": null, \"fin17c\": 11.8499504, \"fin24aSD_ND\": null}, {\"countrynewwb\": \"India\", \"codewb\": \"IND\", \"year\": 2017, \"pop_adult\": \"962463650\", \"regionwb24_hi\": \"South Asia (excluding high income)\", \"incomegroupwb24\": \"Lower middle income\", \"group\": \"income\", \"group2\": \"richest 60%\", \"account_t_d\": 81.7354241, \"fiaccount_t_d\": 81.6768723, \"mobileaccount_t_d\": null, \"fin11a\": null, \"fin11b\": null, \"fin11c\": null, \"fin11f\": null, \"fin11d\": null, \"fin11e\": null, \"fin14a\": null, \"fin14b\": null, \"fin14c\": null, \"fin14d\": null, \"fin26a\": null, \"fin26b\": null, \"fin27a\": null, \"g20_made\": 26.2441274, \"fin17f\": null, \"fin17a_17a1_d\": 24.808307600000003, \"fin17a\": 24.808307600000003, \"fin17b\": null, \"fin17c\": null, \"fin24aSD_ND\": null}, {\"countrynewwb\": \"India\", \"codewb\": \"IND\", \"year\": 2017, \"pop_adult\": \"962463650\", \"regionwb24_hi\": \"South Asia (excluding high income)\", \"incomegroupwb24\": \"Lower middle income\", \"group\": \"income\", \"group2\": \"poorest 40%\", \"account_t_d\": 77.0829503, \"fiaccount_t_d\": 77.0829503, \"mobileaccount_t_d\": null, \"fin11a\": null, \"fin11b\": null, \"fin11c\": null, \"fin11f\": null, \"fin11d\": null, \"fin11e\": null, \"fin14a\": null, \"fin14b\": null, \"fin14c\": null, \"fin14d\": null, \"fin26a\": null, \"fin26b\": null, \"fin27a\": null, \"g20_made\": 10.5560138, \"fin17f\": null, \"fin17a_17a1_d\": 11.7911813, \"fin17a\": 11.7911813, \"fin17b\": null, \"fin17c\": null, \"fin24aSD_ND\": null}, {\"countrynewwb\": \"Pakistan\", \"codewb\": \"PAK\", \"year\": 2017, \"pop_adult\": \"135055510\", \"regionwb24_hi\": \"South Asia (excluding high income)\", \"incomegroupwb24\": \"Lower middle income\", \"group\": \"income\", \"group2\": \"richest 60%\", \"account_t_d\": 25.998449, \"fiaccount_t_d\": 21.5462817, \"mobileaccount_t_d\": null, \"fin11a\": null, \"fin11b\": null, \"fin11c\": null, \"fin11f\": null, \"fin11d\": null, \"fin11e\": null, \"fin14a\": null, \"fin14b\": null, \"fin14c\": null, \"fin14d\": null, \"fin26a\": null, \"fin26b\": null, \"fin27a\": null, \"g20_made\": 18.4979239, \"fin17f\": null, \"fin17a_17a1_d\": null, \"fin17a\": null, \"fin17b\": null, \"fin17c\": 25.076428699999997, \"fin24aSD_ND\": null}, {\"countrynewwb\": \"Pakistan\", \"codewb\": \"PAK\", \"year\": 2017, \"pop_adult\": \"135055510\", \"regionwb24_hi\": \"South Asia (excluding high income)\", \"incomegroupwb24\": \"Lower middle income\", \"group\": \"income\", \"group2\": \"poorest 40%\", \"account_t_d\": 14.2158896, \"fiaccount_t_d\": 12.789509099999998, \"mobileaccount_t_d\": null, \"fin11a\": null, \"fin11b\": null, \"fin11c\": null, \"fin11f\": null, \"fin11d\": null, \"fin11e\": null, \"fin14a\": null, \"fin14b\": null, \"fin14c\": null, \"fin14d\": null, \"fin26a\": null, \"fin26b\": null, \"fin27a\": null, \"g20_made\": 8.0285962, \"fin17f\": null, \"fin17a_17a1_d\": null, \"fin17a\": null, \"fin17b\": null, \"fin17c\": 15.1576567, \"fin24aSD_ND\": null}, {\"countrynewwb\": \"Bangladesh\", \"codewb\": \"BGD\", \"year\": 2021, \"pop_adult\": \"117641793\", \"regionwb24_hi\": \"South Asia (excluding high income)\", \"incomegroupwb24\": \"Lower middle income\", \"group\": \"income\", \"group2\": \"richest 60%\", \"account_t_d\": 55.574732999999995, \"fiaccount_t_d\": 40.5140443, \"mobileaccount_t_d\": 31.296325000000003, \"fin11a\": null, \"fin11b\": null, \"fin11c\": null, \"fin11f\": null, \"fin11d\": null, \"fin11e\": null, \"fin14a\": null, \"fin14b\": null, \"fin14c\": null, \"fin14d\": null, \"fin26a\": 12.369459200000001, \"fin26b\": null, \"fin27a\": null, \"g20_made\": 43.922228600000004, \"fin17f\": null, \"fin17a_17a1_d\": null, \"fin17a\": null, \"fin17b\": null, \"fin17c\": null, \"fin24aSD_ND\": 45.2079706}, {\"countrynewwb\": \"Bangladesh\", \"codewb\": \"BGD\", \"year\": 2021, \"pop_adult\": \"117641793\", \"regionwb24_hi\": \"South Asia (excluding high income)\", \"incomegroupwb24\": \"Lower middle income\", \"group\": \"income\", \"group2\": \"poorest 40%\", \"account_t_d\": 48.651171999999995, \"fiaccount_t_d\": 33.442468600000005, \"mobileaccount_t_d\": 25.5684277, \"fin11a\": null, \"fin11b\": null, \"fin11c\": null, \"fin11f\": null, \"fin11d\": null, \"fin11e\": null, \"fin14a\": null, \"fin14b\": null, \"fin14c\": null, \"fin14d\": null, \"fin26a\": 7.752719600000001, \"fin26b\": null, \"fin27a\": null, \"g20_made\": 35.5605605, \"fin17f\": null, \"fin17a_17a1_d\": null, \"fin17a\": null, \"fin17b\": null, \"fin17c\": null, \"fin24aSD_ND\": 26.2052964}, {\"countrynewwb\": \"India\", \"codewb\": \"IND\", \"year\": 2021, \"pop_adult\": \"1033092817\", \"regionwb24_hi\": \"South Asia (excluding high income)\", \"incomegroupwb24\": \"Lower middle income\", \"group\": \"income\", \"group2\": \"richest 60%\", \"account_t_d\": 77.047704, \"fiaccount_t_d\": 76.7392135, \"mobileaccount_t_d\": 15.160378, \"fin11a\": null, \"fin11b\": null, \"fin11c\": null, \"fin11f\": null, \"fin11d\": null, \"fin11e\": null, \"fin14a\": null, \"fin14b\": null, \"fin14c\": null, \"fin14d\": null, \"fin26a\": null, \"fin26b\": null, \"fin27a\": null, \"g20_made\": 32.632318999999995, \"fin17f\": null, \"fin17a_17a1_d\": 18.2277759, \"fin17a\": 16.4310859, \"fin17b\": null, \"fin17c\": null, \"fin24aSD_ND\": 42.6253267}, {\"countrynewwb\": \"India\", \"codewb\": \"IND\", \"year\": 2021, \"pop_adult\": \"1033092817\", \"regionwb24_hi\": \"South Asia (excluding high income)\", \"incomegroupwb24\": \"Lower middle income\", \"group\": \"income\", \"group2\": \"poorest 40%\", \"account_t_d\": 78.2527604, \"fiaccount_t_d\": 78.1480303, \"mobileaccount_t_d\": 3.3442013, \"fin11a\": null, \"fin11b\": null, \"fin11c\": null, \"fin11f\": null, \"fin11d\": null, \"fin11e\": null, \"fin14a\": null, \"fin14b\": null, \"fin14c\": null, \"fin14d\": null, \"fin26a\": null, \"fin26b\": null, \"fin27a\": null, \"g20_made\": 11.7206011, \"fin17f\": null, \"fin17a_17a1_d\": 7.8639904, \"fin17a\": 7.2203642, \"fin17b\": null, \"fin17c\": null, \"fin24aSD_ND\": 14.2255236}, {\"countrynewwb\": \"Pakistan\", \"codewb\": \"PAK\", \"year\": 2021, \"pop_adult\": \"146030491\", \"regionwb24_hi\": \"South Asia (excluding high income)\", \"incomegroupwb24\": \"Lower middle income\", \"group\": \"income\", \"group2\": \"richest 60%\", \"account_t_d\": 23.2122997, \"fiaccount_t_d\": 18.0997155, \"mobileaccount_t_d\": null, \"fin11a\": null, \"fin11b\": null, \"fin11c\": null, \"fin11f\": null, \"fin11d\": null, \"fin11e\": null, \"fin14a\": null, \"fin14b\": null, \"fin14c\": null, \"fin14d\": null, \"fin26a\": null, \"fin26b\": null, \"fin27a\": null, \"g20_made\": 15.855787900000001, \"fin17f\": null, \"fin17a_17a1_d\": null, \"fin17a\": null, \"fin17b\": null, \"fin17c\": null, \"fin24aSD_ND\": 35.2204611}, {\"countrynewwb\": \"Pakistan\", \"codewb\": \"PAK\", \"year\": 2021, \"pop_adult\": \"146030491\", \"regionwb24_hi\": \"South Asia (excluding high income)\", \"incomegroupwb24\": \"Lower middle income\", \"group\": \"income\", \"group2\": \"poorest 40%\", \"account_t_d\": 17.6113668, \"fiaccount_t_d\": 13.553258500000002, \"mobileaccount_t_d\": null, \"fin11a\": null, \"fin11b\": null, \"fin11c\": null, \"fin11f\": null, \"fin11d\": null, \"fin11e\": null, \"fin14a\": null, \"fin14b\": null, \"fin14c\": null, \"fin14d\": null, \"fin26a\": null, \"fin26b\": null, \"fin27a\": null, \"g20_made\": 13.384746699999999, \"fin17f\": null, \"fin17a_17a1_d\": null, \"fin17a\": null, \"fin17b\": null, \"fin17c\": null, \"fin24aSD_ND\": 21.990968}, {\"countrynewwb\": \"Bangladesh\", \"codewb\": \"BGD\", \"year\": 2024, \"pop_adult\": \"122837439\", \"regionwb24_hi\": \"South Asia (excluding high income)\", \"incomegroupwb24\": \"Lower middle income\", \"group\": \"income\", \"group2\": \"richest 60%\", \"account_t_d\": 48.189055200000006, \"fiaccount_t_d\": 38.213643600000005, \"mobileaccount_t_d\": 23.6437843, \"fin11a\": null, \"fin11b\": 10.1011771, \"fin11c\": null, \"fin11f\": null, \"fin11d\": 46.391624, \"fin11e\": 15.9269298, \"fin14a\": null, \"fin14b\": null, \"fin14c\": null, \"fin14d\": 36.0782387, \"fin26a\": null, \"fin26b\": null, \"fin27a\": null, \"g20_made\": 33.910372, \"fin17f\": null, \"fin17a_17a1_d\": 14.382050099999999, \"fin17a\": null, \"fin17b\": null, \"fin17c\": null, \"fin24aSD_ND\": 46.8465188}, {\"countrynewwb\": \"Bangladesh\", \"codewb\": \"BGD\", \"year\": 2024, \"pop_adult\": \"122837439\", \"regionwb24_hi\": \"South Asia (excluding high income)\", \"incomegroupwb24\": \"Lower middle income\", \"group\": \"income\", \"group2\": \"poorest 40%\", \"account_t_d\": 35.5467073, \"fiaccount_t_d\": 24.6417108, \"mobileaccount_t_d\": 16.232704000000002, \"fin11a\": null, \"fin11b\": 14.8798289, \"fin11c\": null, \"fin11f\": null, \"fin11d\": 67.7623533, \"fin11e\": 5.9367781, \"fin14a\": null, \"fin14b\": null, \"fin14c\": null, \"fin14d\": 51.470976199999996, \"fin26a\": null, \"fin26b\": null, \"fin27a\": null, \"g20_made\": 19.0200526, \"fin17f\": null, \"fin17a_17a1_d\": 4.6863445, \"fin17a\": null, \"fin17b\": null, \"fin17c\": null, \"fin24aSD_ND\": 18.3449606}, {\"countrynewwb\": \"India\", \"codewb\": \"IND\", \"year\": 2024, \"pop_adult\": \"1077731602\", \"regionwb24_hi\": \"South Asia (excluding high income)\", \"incomegroupwb24\": \"Lower middle income\", \"group\": \"income\", \"group2\": \"richest 60%\", \"account_t_d\": 90.83117109999999, \"fiaccount_t_d\": 90.2532259, \"mobileaccount_t_d\": 32.107343799999995, \"fin11a\": null, \"fin11b\": null, \"fin11c\": null, \"fin11f\": null, \"fin11d\": null, \"fin11e\": null, \"fin14a\": null, \"fin14b\": null, \"fin14c\": null, \"fin14d\": null, \"fin26a\": 21.052277699999998, \"fin26b\": 23.3358754, \"fin27a\": null, \"g20_made\": 38.125757199999995, \"fin17f\": null, \"fin17a_17a1_d\": 35.050959999999996, \"fin17a\": 31.066937700000004, \"fin17b\": 15.6080924, \"fin17c\": 16.0025635, \"fin24aSD_ND\": 37.7151122}, {\"countrynewwb\": \"India\", \"codewb\": \"IND\", \"year\": 2024, \"pop_adult\": \"1077731602\", \"regionwb24_hi\": \"South Asia (excluding high income)\", \"incomegroupwb24\": \"Lower middle income\", \"group\": \"income\", \"group2\": \"poorest 40%\", \"account_t_d\": 86.3166813, \"fiaccount_t_d\": 86.2597842, \"mobileaccount_t_d\": 9.5977622, \"fin11a\": null, \"fin11b\": null, \"fin11c\": null, \"fin11f\": null, \"fin11d\": null, \"fin11e\": null, \"fin14a\": null, \"fin14b\": null, \"fin14c\": null, \"fin14d\": null, \"fin26a\": 6.3471239, \"fin26b\": 5.5299613, \"fin27a\": null, \"g20_made\": 16.1367551, \"fin17f\": null, \"fin17a_17a1_d\": 14.8950433, \"fin17a\": 13.027686, \"fin17b\": 3.8998581999999997, \"fin17c\": 8.706001200000001, \"fin24aSD_ND\": 18.7029898}, {\"countrynewwb\": \"Pakistan\", \"codewb\": \"PAK\", \"year\": 2024, \"pop_adult\": \"155833628\", \"regionwb24_hi\": \"South Asia (excluding high income)\", \"incomegroupwb24\": \"Lower middle income\", \"group\": \"income\", \"group2\": \"richest 60%\", \"account_t_d\": 36.4061625, \"fiaccount_t_d\": 24.2566569, \"mobileaccount_t_d\": 25.6203931, \"fin11a\": 22.4115397, \"fin11b\": 34.667357700000004, \"fin11c\": 19.8191707, \"fin11f\": 16.4542018, \"fin11d\": 48.4669252, \"fin11e\": 13.2551103, \"fin14a\": 11.9911088, \"fin14b\": 28.8580809, \"fin14c\": 16.082806599999998, \"fin14d\": 41.9523655, \"fin26a\": null, \"fin26b\": null, \"fin27a\": null, \"g20_made\": 27.3077913, \"fin17f\": null, \"fin17a_17a1_d\": 16.447109100000002, \"fin17a\": null, \"fin17b\": null, \"fin17c\": 21.7245628, \"fin24aSD_ND\": 39.6365646}, {\"countrynewwb\": \"Pakistan\", \"codewb\": \"PAK\", \"year\": 2024, \"pop_adult\": \"155833628\", \"regionwb24_hi\": \"South Asia (excluding high income)\", \"incomegroupwb24\": \"Lower middle income\", \"group\": \"income\", \"group2\": \"poorest 40%\", \"account_t_d\": 13.606253800000001, \"fiaccount_t_d\": 9.302086599999999, \"mobileaccount_t_d\": 7.4445238, \"fin11a\": 31.3316277, \"fin11b\": 47.1464286, \"fin11c\": 23.793657200000002, \"fin11f\": 17.9072278, \"fin11d\": 57.5106283, \"fin11e\": 12.4465, \"fin14a\": 26.334708499999998, \"fin14b\": 44.6175259, \"fin14c\": 21.2323007, \"fin14d\": 55.3356439, \"fin26a\": null, \"fin26b\": null, \"fin27a\": null, \"g20_made\": 9.594718100000001, \"fin17f\": null, \"fin17a_17a1_d\": 6.973797900000001, \"fin17a\": null, \"fin17b\": null, \"fin17c\": 9.267223600000001, \"fin24aSD_ND\": 23.5433092}, {\"countrynewwb\": \"South Asia\", \"codewb\": \"SAS\", \"year\": 2011, \"pop_adult\": \"NA\", \"regionwb24_hi\": \"NA\", \"incomegroupwb24\": \"NA\", \"group\": \"income\", \"group2\": \"richest 60%\", \"account_t_d\": 37.7922041, \"fiaccount_t_d\": 37.7922041, \"mobileaccount_t_d\": null, \"fin11a\": null, \"fin11b\": null, \"fin11c\": null, \"fin11f\": null, \"fin11d\": null, \"fin11e\": null, \"fin14a\": null, \"fin14b\": null, \"fin14c\": null, \"fin14d\": null, \"fin26a\": null, \"fin26b\": null, \"fin27a\": null, \"g20_made\": null, \"fin17f\": null, \"fin17a_17a1_d\": 11.9220027, \"fin17a\": 11.9220027, \"fin17b\": null, \"fin17c\": null, \"fin24aSD_ND\": null}, {\"countrynewwb\": \"South Asia\", \"codewb\": \"SAS\", \"year\": 2011, \"pop_adult\": \"NA\", \"regionwb24_hi\": \"NA\", \"incomegroupwb24\": \"NA\", \"group\": \"income\", \"group2\": \"poorest 40%\", \"account_t_d\": 23.8002303, \"fiaccount_t_d\": 23.8002303, \"mobileaccount_t_d\": null, \"fin11a\": null, \"fin11b\": null, \"fin11c\": null, \"fin11f\": null, \"fin11d\": null, \"fin11e\": null, \"fin14a\": null, \"fin14b\": null, \"fin14c\": null, \"fin14d\": null, \"fin26a\": null, \"fin26b\": null, \"fin27a\": null, \"g20_made\": null, \"fin17f\": null, \"fin17a_17a1_d\": 9.733778299999999, \"fin17a\": 9.733778299999999, \"fin17b\": null, \"fin17c\": null, \"fin24aSD_ND\": null}, {\"countrynewwb\": \"South Asia\", \"codewb\": \"SAS\", \"year\": 2014, \"pop_adult\": \"NA\", \"regionwb24_hi\": \"NA\", \"incomegroupwb24\": \"NA\", \"group\": \"income\", \"group2\": \"richest 60%\", \"account_t_d\": 52.0157705, \"fiaccount_t_d\": 50.911675300000006, \"mobileaccount_t_d\": null, \"fin11a\": null, \"fin11b\": null, \"fin11c\": null, \"fin11f\": null, \"fin11d\": null, \"fin11e\": null, \"fin14a\": null, \"fin14b\": null, \"fin14c\": null, \"fin14d\": null, \"fin26a\": null, \"fin26b\": null, \"fin27a\": null, \"g20_made\": 18.427158499999997, \"fin17f\": null, \"fin17a_17a1_d\": 16.757473, \"fin17a\": 16.757473, \"fin17b\": null, \"fin17c\": null, \"fin24aSD_ND\": null}, {\"countrynewwb\": \"South Asia\", \"codewb\": \"SAS\", \"year\": 2014, \"pop_adult\": \"NA\", \"regionwb24_hi\": \"NA\", \"incomegroupwb24\": \"NA\", \"group\": \"income\", \"group2\": \"poorest 40%\", \"account_t_d\": 37.7610915, \"fiaccount_t_d\": 37.1016198, \"mobileaccount_t_d\": null, \"fin11a\": null, \"fin11b\": null, \"fin11c\": null, \"fin11f\": null, \"fin11d\": null, \"fin11e\": null, \"fin14a\": null, \"fin14b\": null, \"fin14c\": null, \"fin14d\": null, \"fin26a\": null, \"fin26b\": null, \"fin27a\": null, \"g20_made\": 6.0389403, \"fin17f\": null, \"fin17a_17a1_d\": 6.469200999999999, \"fin17a\": 6.469200999999999, \"fin17b\": null, \"fin17c\": null, \"fin24aSD_ND\": null}, {\"countrynewwb\": \"South Asia\", \"codewb\": \"SAS\", \"year\": 2017, \"pop_adult\": \"NA\", \"regionwb24_hi\": \"NA\", \"incomegroupwb24\": \"NA\", \"group\": \"income\", \"group2\": \"richest 60%\", \"account_t_d\": 72.0268204, \"fiaccount_t_d\": 70.5625983, \"mobileaccount_t_d\": null, \"fin11a\": null, \"fin11b\": null, \"fin11c\": null, \"fin11f\": null, \"fin11d\": null, \"fin11e\": null, \"fin14a\": null, \"fin14b\": null, \"fin14c\": null, \"fin14d\": null, \"fin26a\": null, \"fin26b\": null, \"fin27a\": null, \"g20_made\": 25.8286404, \"fin17f\": null, \"fin17a_17a1_d\": 21.7800992, \"fin17a\": 21.7800992, \"fin17b\": null, \"fin17c\": 12.574354, \"fin24aSD_ND\": null}, {\"countrynewwb\": \"South Asia\", \"codewb\": \"SAS\", \"year\": 2017, \"pop_adult\": \"NA\", \"regionwb24_hi\": \"NA\", \"incomegroupwb24\": \"NA\", \"group\": \"income\", \"group2\": \"poorest 40%\", \"account_t_d\": 65.4891983, \"fiaccount_t_d\": 64.7321542, \"mobileaccount_t_d\": null, \"fin11a\": null, \"fin11b\": null, \"fin11c\": null, \"fin11f\": null, \"fin11d\": null, \"fin11e\": null, \"fin14a\": null, \"fin14b\": null, \"fin14c\": null, \"fin14d\": null, \"fin26a\": null, \"fin26b\": null, \"fin27a\": null, \"g20_made\": 11.4797173, \"fin17f\": null, \"fin17a_17a1_d\": 10.1941851, \"fin17a\": 10.1941851, \"fin17b\": null, \"fin17c\": 6.7590296, \"fin24aSD_ND\": null}, {\"countrynewwb\": \"South Asia\", \"codewb\": \"SAS\", \"year\": 2021, \"pop_adult\": \"NA\", \"regionwb24_hi\": \"NA\", \"incomegroupwb24\": \"NA\", \"group\": \"income\", \"group2\": \"richest 60%\", \"account_t_d\": 68.2541961, \"fiaccount_t_d\": 66.138306, \"mobileaccount_t_d\": 15.337957399999999, \"fin11a\": null, \"fin11b\": null, \"fin11c\": null, \"fin11f\": null, \"fin11d\": null, \"fin11e\": null, \"fin14a\": null, \"fin14b\": null, \"fin14c\": null, \"fin14d\": null, \"fin26a\": null, \"fin26b\": null, \"fin27a\": null, \"g20_made\": 31.400752100000002, \"fin17f\": null, \"fin17a_17a1_d\": 15.8989785, \"fin17a\": 14.2986839, \"fin17b\": null, \"fin17c\": null, \"fin24aSD_ND\": 42.6950336}, {\"countrynewwb\": \"South Asia\", \"codewb\": \"SAS\", \"year\": 2021, \"pop_adult\": \"NA\", \"regionwb24_hi\": \"NA\", \"incomegroupwb24\": \"NA\", \"group\": \"income\", \"group2\": \"poorest 40%\", \"account_t_d\": 67.6053301, \"fiaccount_t_d\": 65.747355, \"mobileaccount_t_d\": 5.785181, \"fin11a\": null, \"fin11b\": null, \"fin11c\": null, \"fin11f\": null, \"fin11d\": null, \"fin11e\": null, \"fin14a\": null, \"fin14b\": null, \"fin14c\": null, \"fin14d\": null, \"fin26a\": null, \"fin26b\": null, \"fin27a\": null, \"g20_made\": 14.1500296, \"fin17f\": null, \"fin17a_17a1_d\": 7.0412722, \"fin17a\": 6.483630999999999, \"fin17b\": null, \"fin17c\": null, \"fin24aSD_ND\": 16.9862562}, {\"countrynewwb\": \"South Asia\", \"codewb\": \"SAS\", \"year\": 2024, \"pop_adult\": \"NA\", \"regionwb24_hi\": \"NA\", \"incomegroupwb24\": \"NA\", \"group\": \"income\", \"group2\": \"richest 60%\", \"account_t_d\": 80.4348488, \"fiaccount_t_d\": 77.691398, \"mobileaccount_t_d\": 30.003757599999997, \"fin11a\": null, \"fin11b\": 8.3296695, \"fin11c\": null, \"fin11f\": null, \"fin11d\": 14.3827341, \"fin11e\": null, \"fin14a\": null, \"fin14b\": null, \"fin14c\": null, \"fin14d\": null, \"fin26a\": 18.9942684, \"fin26b\": 19.8547644, \"fin27a\": null, \"g20_made\": 36.2144664, \"fin17f\": null, \"fin17a_17a1_d\": 30.9328076, \"fin17a\": 26.9579002, \"fin17b\": null, \"fin17c\": 15.940585700000002, \"fin24aSD_ND\": 39.2756137}, {\"countrynewwb\": \"South Asia\", \"codewb\": \"SAS\", \"year\": 2024, \"pop_adult\": \"NA\", \"regionwb24_hi\": \"NA\", \"incomegroupwb24\": \"NA\", \"group\": \"income\", \"group2\": \"poorest 40%\", \"account_t_d\": 73.2503055, \"fiaccount_t_d\": 71.7530417, \"mobileaccount_t_d\": 9.7649823, \"fin11a\": null, \"fin11b\": 13.3709668, \"fin11c\": null, \"fin11f\": null, \"fin11d\": 19.574640900000002, \"fin11e\": null, \"fin14a\": null, \"fin14b\": null, \"fin14c\": null, \"fin14d\": null, \"fin26a\": 5.6141128, \"fin26b\": 4.6845688, \"fin27a\": null, \"g20_made\": 15.6421178, \"fin17f\": null, \"fin17a_17a1_d\": 13.0666023, \"fin17a\": 11.151053, \"fin17b\": null, \"fin17c\": 8.7960756, \"fin24aSD_ND\": 19.4730864}]}}, {\"mode\": \"vega-lite\"});\n",
       "</script>"
      ],
      "text/plain": [
       "alt.Chart(...)"
      ]
     },
     "execution_count": 62,
     "metadata": {},
     "output_type": "execute_result"
    }
   ],
   "source": [
    "# too much missing data --> skip this\n",
    "def savings_behavior_by_gender(df):\n",
    "    gender_df = df.filter(pl.col('group') == 'income')\n",
    "    savings_gender_gap = alt.Chart(gender_df).mark_line(point=True).encode(\n",
    "        x = 'year:N', \n",
    "        y = alt.Y('fin17c:Q', title = 'Saved Money Formally(%)'), \n",
    "        color = alt.Color('group2:N', title = 'Income').scale(scheme = 'lightmulti'), \n",
    "        column = alt.Column('countrynewwb', title = 'Country', sort = south_asia_countries)\n",
    "            \n",
    "        \n",
    "    )\n",
    "    return savings_gender_gap\n",
    "\n",
    "savings_behavior_by_gender(filter_south_asia(process_data(), True))"
   ]
  },
  {
   "cell_type": "code",
   "execution_count": 73,
   "metadata": {},
   "outputs": [],
   "source": [
    "def financial_resiliance_all(df): \n",
    "    country_resiliance_chart = alt.Chart(df).mark_bar().encode(\n",
    "        x = 'year:N', \n",
    "        y = alt.Y('fin24aSD_ND:Q', title = 'Financially Resiliant (%)'),\n",
    "        column= alt.Column('countrynewwb', title  = 'Country', sort = south_asia_countries)\n",
    "    )\n",
    "    return country_resiliance_chart\n",
    "financial_resiliance_all(filter_south_asia(process_data(), False)).save('../milestones/static-draft-images/financial_resiliance_all.png', \n",
    "                                                             ppi=200)"
   ]
  }
 ],
 "metadata": {
  "kernelspec": {
   "display_name": "Python 3 (ipykernel)",
   "language": "python",
   "name": "python3"
  },
  "language_info": {
   "codemirror_mode": {
    "name": "ipython",
    "version": 3
   },
   "file_extension": ".py",
   "mimetype": "text/x-python",
   "name": "python",
   "nbconvert_exporter": "python",
   "pygments_lexer": "ipython3",
   "version": "3.13.1"
  }
 },
 "nbformat": 4,
 "nbformat_minor": 4
}
